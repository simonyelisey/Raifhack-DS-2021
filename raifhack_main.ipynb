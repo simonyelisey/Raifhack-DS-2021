{
  "nbformat": 4,
  "nbformat_minor": 0,
  "metadata": {
    "colab": {
      "name": "raifhack_main",
      "provenance": [],
      "collapsed_sections": [],
      "authorship_tag": "ABX9TyODVjgj9No3LziLNP1UxyEC",
      "include_colab_link": true
    },
    "kernelspec": {
      "name": "python3",
      "display_name": "Python 3"
    },
    "language_info": {
      "name": "python"
    }
  },
  "cells": [
    {
      "cell_type": "markdown",
      "metadata": {
        "id": "view-in-github",
        "colab_type": "text"
      },
      "source": [
        "<a href=\"https://colab.research.google.com/github/simonyelisey/Raifhack-DS-2021/blob/main/raifhack_main.ipynb\" target=\"_parent\"><img src=\"https://colab.research.google.com/assets/colab-badge.svg\" alt=\"Open In Colab\"/></a>"
      ]
    },
    {
      "cell_type": "code",
      "metadata": {
        "colab": {
          "base_uri": "https://localhost:8080/"
        },
        "id": "xjwlny4ZUm0b",
        "outputId": "e35a4166-9094-4cea-ce20-35405afe33eb"
      },
      "source": [
        "!pip install scikit-learn==0.24"
      ],
      "execution_count": 1,
      "outputs": [
        {
          "output_type": "stream",
          "name": "stdout",
          "text": [
            "Collecting scikit-learn==0.24\n",
            "  Downloading scikit_learn-0.24.0-cp37-cp37m-manylinux2010_x86_64.whl (22.3 MB)\n",
            "\u001b[K     |████████████████████████████████| 22.3 MB 1.7 MB/s \n",
            "\u001b[?25hCollecting threadpoolctl>=2.0.0\n",
            "  Downloading threadpoolctl-3.0.0-py3-none-any.whl (14 kB)\n",
            "Requirement already satisfied: scipy>=0.19.1 in /usr/local/lib/python3.7/dist-packages (from scikit-learn==0.24) (1.4.1)\n",
            "Requirement already satisfied: numpy>=1.13.3 in /usr/local/lib/python3.7/dist-packages (from scikit-learn==0.24) (1.19.5)\n",
            "Requirement already satisfied: joblib>=0.11 in /usr/local/lib/python3.7/dist-packages (from scikit-learn==0.24) (1.0.1)\n",
            "Installing collected packages: threadpoolctl, scikit-learn\n",
            "  Attempting uninstall: scikit-learn\n",
            "    Found existing installation: scikit-learn 0.22.2.post1\n",
            "    Uninstalling scikit-learn-0.22.2.post1:\n",
            "      Successfully uninstalled scikit-learn-0.22.2.post1\n",
            "Successfully installed scikit-learn-0.24.0 threadpoolctl-3.0.0\n"
          ]
        }
      ]
    },
    {
      "cell_type": "code",
      "metadata": {
        "id": "iBaEO0aLT9Eo"
      },
      "source": [
        "import pandas as pd\n",
        "import numpy as np\n",
        "import matplotlib.pyplot as plt\n",
        "import seaborn as sns\n",
        "import os,gc\n",
        "from sklearn.metrics import r2_score, mean_squared_error, mean_absolute_percentage_error\n",
        "from sklearn.model_selection import train_test_split\n",
        "from xgboost import XGBRegressor"
      ],
      "execution_count": 2,
      "outputs": []
    },
    {
      "cell_type": "code",
      "metadata": {
        "colab": {
          "base_uri": "https://localhost:8080/"
        },
        "id": "O9xNoZveUGGM",
        "outputId": "bdb23d8f-7830-4b3e-9785-56898871b0c0"
      },
      "source": [
        "from google.colab import drive\n",
        "drive.mount('/content/drive')"
      ],
      "execution_count": 3,
      "outputs": [
        {
          "output_type": "stream",
          "name": "stdout",
          "text": [
            "Mounted at /content/drive\n"
          ]
        }
      ]
    },
    {
      "cell_type": "code",
      "metadata": {
        "id": "nfex26ofUHiF"
      },
      "source": [
        "os.chdir('/content/drive/MyDrive')"
      ],
      "execution_count": 4,
      "outputs": []
    },
    {
      "cell_type": "code",
      "metadata": {
        "colab": {
          "base_uri": "https://localhost:8080/"
        },
        "id": "SF7PlOTIUMmi",
        "outputId": "e1cef722-3058-4e16-8a3e-48a300ee6ef9"
      },
      "source": [
        "os.listdir('raifhack_ds')"
      ],
      "execution_count": 5,
      "outputs": [
        {
          "output_type": "execute_result",
          "data": {
            "text/plain": [
              "['raifhack_ds']"
            ]
          },
          "metadata": {},
          "execution_count": 5
        }
      ]
    },
    {
      "cell_type": "code",
      "metadata": {
        "id": "1ZTKIXhRUOSk"
      },
      "source": [
        "# данные\n",
        "df_train = pd.read_csv('raifhack_ds/raifhack_ds/data/train.csv', index_col='id')\n",
        "df_test = pd.read_csv('raifhack_ds/raifhack_ds/data/test.csv', index_col='id')"
      ],
      "execution_count": null,
      "outputs": []
    },
    {
      "cell_type": "code",
      "metadata": {
        "id": "sAFGucrbUQHO"
      },
      "source": [
        "# оставим только данные с ручной оценкой стоимости\n",
        "df_train = df_train[df_train['price_type'] == 1]"
      ],
      "execution_count": 9,
      "outputs": []
    },
    {
      "cell_type": "code",
      "metadata": {
        "colab": {
          "base_uri": "https://localhost:8080/",
          "height": 340
        },
        "id": "_6iaThS3oaOw",
        "outputId": "d91083e1-0ffc-40eb-a1a8-4bbe2e328d56"
      },
      "source": [
        "df_train.head()"
      ],
      "execution_count": 13,
      "outputs": [
        {
          "output_type": "execute_result",
          "data": {
            "text/html": [
              "<div>\n",
              "<style scoped>\n",
              "    .dataframe tbody tr th:only-of-type {\n",
              "        vertical-align: middle;\n",
              "    }\n",
              "\n",
              "    .dataframe tbody tr th {\n",
              "        vertical-align: top;\n",
              "    }\n",
              "\n",
              "    .dataframe thead th {\n",
              "        text-align: right;\n",
              "    }\n",
              "</style>\n",
              "<table border=\"1\" class=\"dataframe\">\n",
              "  <thead>\n",
              "    <tr style=\"text-align: right;\">\n",
              "      <th></th>\n",
              "      <th>city</th>\n",
              "      <th>floor</th>\n",
              "      <th>lat</th>\n",
              "      <th>lng</th>\n",
              "      <th>osm_amenity_points_in_0.001</th>\n",
              "      <th>osm_amenity_points_in_0.005</th>\n",
              "      <th>osm_amenity_points_in_0.0075</th>\n",
              "      <th>osm_amenity_points_in_0.01</th>\n",
              "      <th>osm_building_points_in_0.001</th>\n",
              "      <th>osm_building_points_in_0.005</th>\n",
              "      <th>osm_building_points_in_0.0075</th>\n",
              "      <th>osm_building_points_in_0.01</th>\n",
              "      <th>osm_catering_points_in_0.001</th>\n",
              "      <th>osm_catering_points_in_0.005</th>\n",
              "      <th>osm_catering_points_in_0.0075</th>\n",
              "      <th>osm_catering_points_in_0.01</th>\n",
              "      <th>osm_city_closest_dist</th>\n",
              "      <th>osm_city_nearest_name</th>\n",
              "      <th>osm_city_nearest_population</th>\n",
              "      <th>osm_crossing_closest_dist</th>\n",
              "      <th>osm_crossing_points_in_0.001</th>\n",
              "      <th>osm_crossing_points_in_0.005</th>\n",
              "      <th>osm_crossing_points_in_0.0075</th>\n",
              "      <th>osm_crossing_points_in_0.01</th>\n",
              "      <th>osm_culture_points_in_0.001</th>\n",
              "      <th>osm_culture_points_in_0.005</th>\n",
              "      <th>osm_culture_points_in_0.0075</th>\n",
              "      <th>osm_culture_points_in_0.01</th>\n",
              "      <th>osm_finance_points_in_0.001</th>\n",
              "      <th>osm_finance_points_in_0.005</th>\n",
              "      <th>osm_finance_points_in_0.0075</th>\n",
              "      <th>osm_finance_points_in_0.01</th>\n",
              "      <th>osm_healthcare_points_in_0.005</th>\n",
              "      <th>osm_healthcare_points_in_0.0075</th>\n",
              "      <th>osm_healthcare_points_in_0.01</th>\n",
              "      <th>osm_historic_points_in_0.005</th>\n",
              "      <th>osm_historic_points_in_0.0075</th>\n",
              "      <th>osm_historic_points_in_0.01</th>\n",
              "      <th>osm_hotels_points_in_0.005</th>\n",
              "      <th>osm_hotels_points_in_0.0075</th>\n",
              "      <th>osm_hotels_points_in_0.01</th>\n",
              "      <th>osm_leisure_points_in_0.005</th>\n",
              "      <th>osm_leisure_points_in_0.0075</th>\n",
              "      <th>osm_leisure_points_in_0.01</th>\n",
              "      <th>osm_offices_points_in_0.001</th>\n",
              "      <th>osm_offices_points_in_0.005</th>\n",
              "      <th>osm_offices_points_in_0.0075</th>\n",
              "      <th>osm_offices_points_in_0.01</th>\n",
              "      <th>osm_shops_points_in_0.001</th>\n",
              "      <th>osm_shops_points_in_0.005</th>\n",
              "      <th>osm_shops_points_in_0.0075</th>\n",
              "      <th>osm_shops_points_in_0.01</th>\n",
              "      <th>osm_subway_closest_dist</th>\n",
              "      <th>osm_train_stop_closest_dist</th>\n",
              "      <th>osm_train_stop_points_in_0.005</th>\n",
              "      <th>osm_train_stop_points_in_0.0075</th>\n",
              "      <th>osm_train_stop_points_in_0.01</th>\n",
              "      <th>osm_transport_stop_closest_dist</th>\n",
              "      <th>osm_transport_stop_points_in_0.005</th>\n",
              "      <th>osm_transport_stop_points_in_0.0075</th>\n",
              "      <th>osm_transport_stop_points_in_0.01</th>\n",
              "      <th>per_square_meter_price</th>\n",
              "      <th>reform_count_of_houses_1000</th>\n",
              "      <th>reform_count_of_houses_500</th>\n",
              "      <th>reform_house_population_1000</th>\n",
              "      <th>reform_house_population_500</th>\n",
              "      <th>reform_mean_floor_count_1000</th>\n",
              "      <th>reform_mean_floor_count_500</th>\n",
              "      <th>reform_mean_year_building_1000</th>\n",
              "      <th>reform_mean_year_building_500</th>\n",
              "      <th>region</th>\n",
              "      <th>total_square</th>\n",
              "      <th>street</th>\n",
              "      <th>date</th>\n",
              "      <th>realty_type</th>\n",
              "      <th>price_type</th>\n",
              "    </tr>\n",
              "    <tr>\n",
              "      <th>id</th>\n",
              "      <th></th>\n",
              "      <th></th>\n",
              "      <th></th>\n",
              "      <th></th>\n",
              "      <th></th>\n",
              "      <th></th>\n",
              "      <th></th>\n",
              "      <th></th>\n",
              "      <th></th>\n",
              "      <th></th>\n",
              "      <th></th>\n",
              "      <th></th>\n",
              "      <th></th>\n",
              "      <th></th>\n",
              "      <th></th>\n",
              "      <th></th>\n",
              "      <th></th>\n",
              "      <th></th>\n",
              "      <th></th>\n",
              "      <th></th>\n",
              "      <th></th>\n",
              "      <th></th>\n",
              "      <th></th>\n",
              "      <th></th>\n",
              "      <th></th>\n",
              "      <th></th>\n",
              "      <th></th>\n",
              "      <th></th>\n",
              "      <th></th>\n",
              "      <th></th>\n",
              "      <th></th>\n",
              "      <th></th>\n",
              "      <th></th>\n",
              "      <th></th>\n",
              "      <th></th>\n",
              "      <th></th>\n",
              "      <th></th>\n",
              "      <th></th>\n",
              "      <th></th>\n",
              "      <th></th>\n",
              "      <th></th>\n",
              "      <th></th>\n",
              "      <th></th>\n",
              "      <th></th>\n",
              "      <th></th>\n",
              "      <th></th>\n",
              "      <th></th>\n",
              "      <th></th>\n",
              "      <th></th>\n",
              "      <th></th>\n",
              "      <th></th>\n",
              "      <th></th>\n",
              "      <th></th>\n",
              "      <th></th>\n",
              "      <th></th>\n",
              "      <th></th>\n",
              "      <th></th>\n",
              "      <th></th>\n",
              "      <th></th>\n",
              "      <th></th>\n",
              "      <th></th>\n",
              "      <th></th>\n",
              "      <th></th>\n",
              "      <th></th>\n",
              "      <th></th>\n",
              "      <th></th>\n",
              "      <th></th>\n",
              "      <th></th>\n",
              "      <th></th>\n",
              "      <th></th>\n",
              "      <th></th>\n",
              "      <th></th>\n",
              "      <th></th>\n",
              "      <th></th>\n",
              "      <th></th>\n",
              "      <th></th>\n",
              "    </tr>\n",
              "  </thead>\n",
              "  <tbody>\n",
              "    <tr>\n",
              "      <th>COL_62</th>\n",
              "      <td>Красноярск</td>\n",
              "      <td>NaN</td>\n",
              "      <td>56.063615</td>\n",
              "      <td>92.958428</td>\n",
              "      <td>0</td>\n",
              "      <td>7</td>\n",
              "      <td>14</td>\n",
              "      <td>26</td>\n",
              "      <td>0</td>\n",
              "      <td>0</td>\n",
              "      <td>0</td>\n",
              "      <td>0</td>\n",
              "      <td>0</td>\n",
              "      <td>0</td>\n",
              "      <td>0</td>\n",
              "      <td>2</td>\n",
              "      <td>7.795659</td>\n",
              "      <td>Красноярск</td>\n",
              "      <td>1095286.0</td>\n",
              "      <td>0.041323</td>\n",
              "      <td>2</td>\n",
              "      <td>6</td>\n",
              "      <td>25</td>\n",
              "      <td>35</td>\n",
              "      <td>0</td>\n",
              "      <td>0</td>\n",
              "      <td>0</td>\n",
              "      <td>2</td>\n",
              "      <td>0</td>\n",
              "      <td>1</td>\n",
              "      <td>2</td>\n",
              "      <td>3</td>\n",
              "      <td>0</td>\n",
              "      <td>0</td>\n",
              "      <td>0</td>\n",
              "      <td>0</td>\n",
              "      <td>0</td>\n",
              "      <td>1</td>\n",
              "      <td>0</td>\n",
              "      <td>0</td>\n",
              "      <td>0</td>\n",
              "      <td>1</td>\n",
              "      <td>1</td>\n",
              "      <td>1</td>\n",
              "      <td>0</td>\n",
              "      <td>0</td>\n",
              "      <td>0</td>\n",
              "      <td>0</td>\n",
              "      <td>0</td>\n",
              "      <td>5</td>\n",
              "      <td>10</td>\n",
              "      <td>15</td>\n",
              "      <td>1.087101</td>\n",
              "      <td>2.281425</td>\n",
              "      <td>0</td>\n",
              "      <td>0</td>\n",
              "      <td>0</td>\n",
              "      <td>0.052809</td>\n",
              "      <td>7</td>\n",
              "      <td>15</td>\n",
              "      <td>21</td>\n",
              "      <td>103120.697310</td>\n",
              "      <td>95</td>\n",
              "      <td>31</td>\n",
              "      <td>2670.0</td>\n",
              "      <td>940.0</td>\n",
              "      <td>7.136842</td>\n",
              "      <td>7.612903</td>\n",
              "      <td>1976.684211</td>\n",
              "      <td>1980.483871</td>\n",
              "      <td>Красноярский край</td>\n",
              "      <td>106.351104</td>\n",
              "      <td>S5845</td>\n",
              "      <td>2020-01-05</td>\n",
              "      <td>110</td>\n",
              "      <td>1</td>\n",
              "    </tr>\n",
              "    <tr>\n",
              "      <th>COL_71</th>\n",
              "      <td>Саратов</td>\n",
              "      <td>NaN</td>\n",
              "      <td>51.534581</td>\n",
              "      <td>46.020549</td>\n",
              "      <td>13</td>\n",
              "      <td>198</td>\n",
              "      <td>345</td>\n",
              "      <td>462</td>\n",
              "      <td>0</td>\n",
              "      <td>0</td>\n",
              "      <td>0</td>\n",
              "      <td>0</td>\n",
              "      <td>4</td>\n",
              "      <td>44</td>\n",
              "      <td>66</td>\n",
              "      <td>89</td>\n",
              "      <td>0.987160</td>\n",
              "      <td>Саратов</td>\n",
              "      <td>842097.0</td>\n",
              "      <td>0.144936</td>\n",
              "      <td>0</td>\n",
              "      <td>4</td>\n",
              "      <td>34</td>\n",
              "      <td>59</td>\n",
              "      <td>0</td>\n",
              "      <td>1</td>\n",
              "      <td>6</td>\n",
              "      <td>9</td>\n",
              "      <td>0</td>\n",
              "      <td>13</td>\n",
              "      <td>22</td>\n",
              "      <td>27</td>\n",
              "      <td>7</td>\n",
              "      <td>17</td>\n",
              "      <td>27</td>\n",
              "      <td>4</td>\n",
              "      <td>7</td>\n",
              "      <td>9</td>\n",
              "      <td>2</td>\n",
              "      <td>5</td>\n",
              "      <td>7</td>\n",
              "      <td>11</td>\n",
              "      <td>16</td>\n",
              "      <td>20</td>\n",
              "      <td>1</td>\n",
              "      <td>11</td>\n",
              "      <td>21</td>\n",
              "      <td>28</td>\n",
              "      <td>8</td>\n",
              "      <td>125</td>\n",
              "      <td>218</td>\n",
              "      <td>286</td>\n",
              "      <td>357.425239</td>\n",
              "      <td>1.924421</td>\n",
              "      <td>0</td>\n",
              "      <td>0</td>\n",
              "      <td>0</td>\n",
              "      <td>0.045451</td>\n",
              "      <td>22</td>\n",
              "      <td>34</td>\n",
              "      <td>45</td>\n",
              "      <td>24874.371004</td>\n",
              "      <td>502</td>\n",
              "      <td>104</td>\n",
              "      <td>4886.0</td>\n",
              "      <td>943.0</td>\n",
              "      <td>4.144608</td>\n",
              "      <td>4.164557</td>\n",
              "      <td>1940.591549</td>\n",
              "      <td>1939.348837</td>\n",
              "      <td>Саратовская область</td>\n",
              "      <td>175.039602</td>\n",
              "      <td>S27968</td>\n",
              "      <td>2020-01-05</td>\n",
              "      <td>10</td>\n",
              "      <td>1</td>\n",
              "    </tr>\n",
              "    <tr>\n",
              "      <th>COL_140</th>\n",
              "      <td>Красноярск</td>\n",
              "      <td>NaN</td>\n",
              "      <td>56.026884</td>\n",
              "      <td>92.818323</td>\n",
              "      <td>3</td>\n",
              "      <td>15</td>\n",
              "      <td>23</td>\n",
              "      <td>33</td>\n",
              "      <td>0</td>\n",
              "      <td>0</td>\n",
              "      <td>0</td>\n",
              "      <td>0</td>\n",
              "      <td>0</td>\n",
              "      <td>1</td>\n",
              "      <td>3</td>\n",
              "      <td>4</td>\n",
              "      <td>3.730568</td>\n",
              "      <td>Красноярск</td>\n",
              "      <td>1095286.0</td>\n",
              "      <td>0.141526</td>\n",
              "      <td>0</td>\n",
              "      <td>16</td>\n",
              "      <td>35</td>\n",
              "      <td>56</td>\n",
              "      <td>0</td>\n",
              "      <td>0</td>\n",
              "      <td>0</td>\n",
              "      <td>0</td>\n",
              "      <td>2</td>\n",
              "      <td>3</td>\n",
              "      <td>3</td>\n",
              "      <td>3</td>\n",
              "      <td>0</td>\n",
              "      <td>1</td>\n",
              "      <td>1</td>\n",
              "      <td>3</td>\n",
              "      <td>3</td>\n",
              "      <td>3</td>\n",
              "      <td>0</td>\n",
              "      <td>0</td>\n",
              "      <td>1</td>\n",
              "      <td>2</td>\n",
              "      <td>2</td>\n",
              "      <td>2</td>\n",
              "      <td>0</td>\n",
              "      <td>2</td>\n",
              "      <td>2</td>\n",
              "      <td>3</td>\n",
              "      <td>1</td>\n",
              "      <td>5</td>\n",
              "      <td>10</td>\n",
              "      <td>18</td>\n",
              "      <td>1.621353</td>\n",
              "      <td>0.579096</td>\n",
              "      <td>0</td>\n",
              "      <td>0</td>\n",
              "      <td>2</td>\n",
              "      <td>0.223787</td>\n",
              "      <td>6</td>\n",
              "      <td>11</td>\n",
              "      <td>18</td>\n",
              "      <td>80058.148547</td>\n",
              "      <td>175</td>\n",
              "      <td>66</td>\n",
              "      <td>4282.0</td>\n",
              "      <td>1445.0</td>\n",
              "      <td>6.851429</td>\n",
              "      <td>5.742424</td>\n",
              "      <td>1976.714286</td>\n",
              "      <td>1972.878788</td>\n",
              "      <td>Красноярский край</td>\n",
              "      <td>89.534921</td>\n",
              "      <td>S23597</td>\n",
              "      <td>2020-01-05</td>\n",
              "      <td>10</td>\n",
              "      <td>1</td>\n",
              "    </tr>\n",
              "    <tr>\n",
              "      <th>COL_202</th>\n",
              "      <td>Иркутск</td>\n",
              "      <td>NaN</td>\n",
              "      <td>52.275528</td>\n",
              "      <td>104.251444</td>\n",
              "      <td>0</td>\n",
              "      <td>10</td>\n",
              "      <td>26</td>\n",
              "      <td>40</td>\n",
              "      <td>0</td>\n",
              "      <td>1</td>\n",
              "      <td>1</td>\n",
              "      <td>1</td>\n",
              "      <td>0</td>\n",
              "      <td>2</td>\n",
              "      <td>6</td>\n",
              "      <td>8</td>\n",
              "      <td>2.344310</td>\n",
              "      <td>Иркутск</td>\n",
              "      <td>623562.0</td>\n",
              "      <td>0.281491</td>\n",
              "      <td>0</td>\n",
              "      <td>6</td>\n",
              "      <td>6</td>\n",
              "      <td>6</td>\n",
              "      <td>0</td>\n",
              "      <td>0</td>\n",
              "      <td>0</td>\n",
              "      <td>0</td>\n",
              "      <td>0</td>\n",
              "      <td>0</td>\n",
              "      <td>0</td>\n",
              "      <td>1</td>\n",
              "      <td>0</td>\n",
              "      <td>4</td>\n",
              "      <td>4</td>\n",
              "      <td>0</td>\n",
              "      <td>0</td>\n",
              "      <td>0</td>\n",
              "      <td>0</td>\n",
              "      <td>1</td>\n",
              "      <td>2</td>\n",
              "      <td>1</td>\n",
              "      <td>2</td>\n",
              "      <td>2</td>\n",
              "      <td>0</td>\n",
              "      <td>1</td>\n",
              "      <td>1</td>\n",
              "      <td>1</td>\n",
              "      <td>0</td>\n",
              "      <td>5</td>\n",
              "      <td>11</td>\n",
              "      <td>21</td>\n",
              "      <td>61.562546</td>\n",
              "      <td>0.813594</td>\n",
              "      <td>0</td>\n",
              "      <td>0</td>\n",
              "      <td>2</td>\n",
              "      <td>0.266067</td>\n",
              "      <td>8</td>\n",
              "      <td>11</td>\n",
              "      <td>19</td>\n",
              "      <td>24649.765045</td>\n",
              "      <td>230</td>\n",
              "      <td>56</td>\n",
              "      <td>1887.0</td>\n",
              "      <td>612.0</td>\n",
              "      <td>4.597222</td>\n",
              "      <td>5.469388</td>\n",
              "      <td>1968.098131</td>\n",
              "      <td>1975.530612</td>\n",
              "      <td>Иркутская область</td>\n",
              "      <td>419.557752</td>\n",
              "      <td>S10587</td>\n",
              "      <td>2020-01-05</td>\n",
              "      <td>10</td>\n",
              "      <td>1</td>\n",
              "    </tr>\n",
              "    <tr>\n",
              "      <th>COL_207</th>\n",
              "      <td>Белгород</td>\n",
              "      <td>NaN</td>\n",
              "      <td>50.576545</td>\n",
              "      <td>36.584197</td>\n",
              "      <td>4</td>\n",
              "      <td>48</td>\n",
              "      <td>73</td>\n",
              "      <td>92</td>\n",
              "      <td>0</td>\n",
              "      <td>0</td>\n",
              "      <td>6</td>\n",
              "      <td>6</td>\n",
              "      <td>1</td>\n",
              "      <td>7</td>\n",
              "      <td>11</td>\n",
              "      <td>15</td>\n",
              "      <td>2.170184</td>\n",
              "      <td>Белгород</td>\n",
              "      <td>384425.0</td>\n",
              "      <td>0.065996</td>\n",
              "      <td>1</td>\n",
              "      <td>19</td>\n",
              "      <td>28</td>\n",
              "      <td>46</td>\n",
              "      <td>1</td>\n",
              "      <td>5</td>\n",
              "      <td>10</td>\n",
              "      <td>11</td>\n",
              "      <td>0</td>\n",
              "      <td>2</td>\n",
              "      <td>2</td>\n",
              "      <td>4</td>\n",
              "      <td>3</td>\n",
              "      <td>3</td>\n",
              "      <td>4</td>\n",
              "      <td>2</td>\n",
              "      <td>2</td>\n",
              "      <td>2</td>\n",
              "      <td>0</td>\n",
              "      <td>2</td>\n",
              "      <td>2</td>\n",
              "      <td>10</td>\n",
              "      <td>11</td>\n",
              "      <td>15</td>\n",
              "      <td>0</td>\n",
              "      <td>0</td>\n",
              "      <td>0</td>\n",
              "      <td>0</td>\n",
              "      <td>1</td>\n",
              "      <td>19</td>\n",
              "      <td>29</td>\n",
              "      <td>36</td>\n",
              "      <td>555.411948</td>\n",
              "      <td>2.505330</td>\n",
              "      <td>0</td>\n",
              "      <td>0</td>\n",
              "      <td>0</td>\n",
              "      <td>0.092583</td>\n",
              "      <td>7</td>\n",
              "      <td>17</td>\n",
              "      <td>22</td>\n",
              "      <td>39135.228322</td>\n",
              "      <td>131</td>\n",
              "      <td>35</td>\n",
              "      <td>3837.0</td>\n",
              "      <td>1073.0</td>\n",
              "      <td>9.157480</td>\n",
              "      <td>9.088235</td>\n",
              "      <td>1983.125984</td>\n",
              "      <td>1980.470588</td>\n",
              "      <td>Белгородская область</td>\n",
              "      <td>1098.703185</td>\n",
              "      <td>S11220</td>\n",
              "      <td>2020-01-05</td>\n",
              "      <td>10</td>\n",
              "      <td>1</td>\n",
              "    </tr>\n",
              "  </tbody>\n",
              "</table>\n",
              "</div>"
            ],
            "text/plain": [
              "               city floor        lat  ...        date  realty_type  price_type\n",
              "id                                    ...                                     \n",
              "COL_62   Красноярск   NaN  56.063615  ...  2020-01-05          110           1\n",
              "COL_71      Саратов   NaN  51.534581  ...  2020-01-05           10           1\n",
              "COL_140  Красноярск   NaN  56.026884  ...  2020-01-05           10           1\n",
              "COL_202     Иркутск   NaN  52.275528  ...  2020-01-05           10           1\n",
              "COL_207    Белгород   NaN  50.576545  ...  2020-01-05           10           1\n",
              "\n",
              "[5 rows x 76 columns]"
            ]
          },
          "metadata": {},
          "execution_count": 13
        }
      ]
    },
    {
      "cell_type": "markdown",
      "metadata": {
        "id": "i6ZbcIsx3TRg"
      },
      "source": [
        "## Обработка floor"
      ]
    },
    {
      "cell_type": "markdown",
      "metadata": {
        "id": "M4oWbKqiNAFC"
      },
      "source": [
        "В признаке **floor** очень много мусора, обработаем его, приведя к числовому формату, а также создадим новый признак, показывающий количество занимаемых помещением этажей"
      ]
    },
    {
      "cell_type": "code",
      "metadata": {
        "colab": {
          "base_uri": "https://localhost:8080/"
        },
        "id": "71ZW2OXhU7W3",
        "outputId": "d5c90ad4-afff-4056-a353-f0524a66b429"
      },
      "source": [
        "df_train.floor.unique()"
      ],
      "execution_count": 21,
      "outputs": [
        {
          "output_type": "execute_result",
          "data": {
            "text/plain": [
              "array([nan, '2.0', '1', '-1.0', '1.0', '3.0', '18.0', 'подвал, 1', '2',\n",
              "       '4.0', 'подвал', 'цоколь, 1', '1,2,антресоль', '5.0', '6.0',\n",
              "       'цоколь', '9.0', '4', '5', 'тех.этаж (6)', '3', 'Подвал', 'Цоколь',\n",
              "       '10', 'фактически на уровне 1 этажа', '6', '1,2,3', '1, подвал',\n",
              "       '1,2,3,4', '1,2', '1,2,3,4,5', '5, мансарда', '-2.0', '10.0',\n",
              "       '1-й, подвал', '12', '15', '13', '1, подвал, антресоль', '16.0',\n",
              "       'мезонин', 'подвал, 1-3', '8', '7', '15.0', '1 (Цокольный этаж)',\n",
              "       '3, Мансарда (4 эт)', 'подвал,1', '1, антресоль', '1-3',\n",
              "       'мансарда (4эт)', '1, 2.', '9', '7.0', 'подвал , 1 ', '1, 2',\n",
              "       'подвал, 1,2,3', '0.0', '1 + подвал (без отделки)', 'мансарда',\n",
              "       '2,3', '4, 5', '1-й, 2-й', '18', '1 этаж, подвал', '17.0',\n",
              "       '1, цоколь', 'подвал, 1-7, техэтаж', '3 (антресоль)', '1, 2, 3',\n",
              "       'Цоколь, 1,2(мансарда)', 'подвал, 3. 4 этаж', 'подвал, 1-4 этаж',\n",
              "       'подва, 1.2 этаж', '2, 3', '-1', '1.2', '11', '36', '7,8',\n",
              "       '1 этаж', '1-й', '3 этаж', '4 этаж', '5 этаж', 'подвал,1,2,3,4,5',\n",
              "       '29', 'подвал, цоколь, 1 этаж', '3, мансарда'], dtype=object)"
            ]
          },
          "metadata": {},
          "execution_count": 21
        }
      ]
    },
    {
      "cell_type": "markdown",
      "metadata": {
        "id": "HqErlj6lA_6f"
      },
      "source": [
        "### Train Признак с количеством этажей"
      ]
    },
    {
      "cell_type": "code",
      "metadata": {
        "id": "uPPKW9tn3IDw"
      },
      "source": [
        "df_train['amnt_floor'] = None"
      ],
      "execution_count": 22,
      "outputs": []
    },
    {
      "cell_type": "code",
      "metadata": {
        "id": "pLGC2pRx8Egt"
      },
      "source": [
        "df_train.loc[df_train['floor'] == '2.0', 'amnt_floor'] = 1\n",
        "df_train.loc[df_train['floor'] == '1', 'amnt_floor'] = 1\n",
        "df_train.loc[df_train['floor'] == '-1.0', 'amnt_floor'] = 1\n",
        "df_train.loc[df_train['floor'] == '1.0', 'amnt_floor'] = 1\n",
        "df_train.loc[df_train['floor'] == '3.0', 'amnt_floor'] = 1\n",
        "df_train.loc[df_train['floor'] == '18.0', 'amnt_floor'] = 1\n",
        "df_train.loc[df_train['floor'] == '2', 'amnt_floor'] = 1\n",
        "df_train.loc[df_train['floor'] == '4.0', 'amnt_floor'] = 1\n",
        "df_train.loc[df_train['floor'] == '5.0', 'amnt_floor'] = 1\n",
        "df_train.loc[df_train['floor'] == '6.0', 'amnt_floor'] = 1\n",
        "df_train.loc[df_train['floor'] == '9.0', 'amnt_floor'] = 1\n",
        "df_train.loc[df_train['floor'] == '4', 'amnt_floor'] = 1\n",
        "df_train.loc[df_train['floor'] == '5', 'amnt_floor'] = 1\n",
        "df_train.loc[df_train['floor'] == '3', 'amnt_floor'] = 1\n",
        "df_train.loc[df_train['floor'] == '10', 'amnt_floor'] = 1\n",
        "df_train.loc[df_train['floor'] == '6', 'amnt_floor'] = 1\n",
        "df_train.loc[df_train['floor'] == '-2.0', 'amnt_floor'] = 1\n",
        "df_train.loc[df_train['floor'] == '10.0', 'amnt_floor'] = 1\n",
        "df_train.loc[df_train['floor'] == '12', 'amnt_floor'] = 1\n",
        "df_train.loc[df_train['floor'] == '15', 'amnt_floor'] = 1\n",
        "df_train.loc[df_train['floor'] == '13', 'amnt_floor'] = 1\n",
        "df_train.loc[df_train['floor'] == '16.0', 'amnt_floor'] = 1\n",
        "df_train.loc[df_train['floor'] == '8', 'amnt_floor'] = 1\n",
        "df_train.loc[df_train['floor'] == '7', 'amnt_floor'] = 1\n",
        "df_train.loc[df_train['floor'] == '15.0', 'amnt_floor'] = 1\n",
        "df_train.loc[df_train['floor'] == '9', 'amnt_floor'] = 1\n",
        "df_train.loc[df_train['floor'] == '7.0', 'amnt_floor'] = 1\n",
        "df_train.loc[df_train['floor'] == '0.0', 'amnt_floor'] = 1\n",
        "df_train.loc[df_train['floor'] == '18', 'amnt_floor'] = 1\n",
        "df_train.loc[df_train['floor'] == '17.0', 'amnt_floor'] = 1\n",
        "df_train.loc[df_train['floor'] == '-1', 'amnt_floor'] = 1\n",
        "df_train.loc[df_train['floor'] == '11', 'amnt_floor'] = 1\n",
        "df_train.loc[df_train['floor'] == '36', 'amnt_floor'] = 1\n",
        "df_train.loc[df_train['floor'] == '29', 'amnt_floor'] = 1"
      ],
      "execution_count": 23,
      "outputs": []
    },
    {
      "cell_type": "code",
      "metadata": {
        "id": "5yRcCjLH3pTx"
      },
      "source": [
        "df_train.loc[df_train['floor'] == '1, 2, 3', 'amnt_floor'] = 3\n",
        "df_train.loc[df_train['floor'] == '1,2', 'amnt_floor'] = 2\n",
        "df_train.loc[df_train['floor'] == '1, подвал', 'amnt_floor'] = 2\n",
        "df_train.loc[df_train['floor'] == 'цоколь', 'amnt_floor'] = 1\n",
        "df_train.loc[df_train['floor'] == 'подвал', 'amnt_floor'] = 1\n",
        "df_train.loc[df_train['floor'] == '1 этаж', 'amnt_floor'] = 1\n",
        "df_train.loc[df_train['floor'] == '4 этаж', 'amnt_floor'] = 1\n",
        "df_train.loc[df_train['floor'] == '1-й', 'amnt_floor'] = 1\n",
        "df_train.loc[df_train['floor'] == '3 этаж', 'amnt_floor'] = 1\n",
        "df_train.loc[df_train['floor'] == 'фактически на уровне 1 этажа', 'amnt_floor'] = 1\n",
        "df_train.loc[df_train['floor'] == '1 (Цокольный этаж)', 'amnt_floor'] = 1\n",
        "df_train.loc[df_train['floor'] == '5 этаж', 'amnt_floor'] = 1\n",
        "df_train.loc[df_train['floor'] == 'Цоколь', 'amnt_floor'] = 1\n",
        "df_train.loc[df_train['floor'] == 'Подвал', 'amnt_floor'] = 1\n",
        "df_train.loc[df_train['floor'] == '1, антресоль', 'amnt_floor'] = 1.5\n",
        "df_train.loc[df_train['floor'] == '5, мансарда', 'amnt_floor'] = 1\n",
        "df_train.loc[df_train['floor'] == '3 (антресоль)', 'amnt_floor'] = 1\n",
        "df_train.loc[df_train['floor'] == 'мансарда (4эт)', 'amnt_floor'] = 1\n",
        "df_train.loc[df_train['floor'] == 'тех.этаж (6)', 'amnt_floor'] = 1\n",
        "df_train.loc[df_train['floor'] == '1,2,3,4', 'amnt_floor'] = 4\n",
        "df_train.loc[df_train['floor'] == 'цоколь, 1', 'amnt_floor'] = 2\n",
        "df_train.loc[df_train['floor'] == 'подвал , 1', 'amnt_floor'] = 2\n",
        "df_train.loc[df_train['floor'] == '1 этаж, подвал', 'amnt_floor'] = 2\n",
        "df_train.loc[df_train['floor'] == 'подвал, 1', 'amnt_floor'] = 2\n",
        "df_train.loc[df_train['floor'] == '1,2,3', 'amnt_floor'] = 3\n",
        "df_train.loc[df_train['floor'] == '2,3', 'amnt_floor'] = 2\n",
        "df_train.loc[df_train['floor'] == 'подва, 1.2 этаж', 'amnt_floor'] = 2\n",
        "df_train.loc[df_train['floor'] == '1-й, 2-й', 'amnt_floor'] = 2\n",
        "df_train.loc[df_train['floor'] == '1,2,3,4,5', 'amnt_floor'] = 5\n",
        "df_train.loc[df_train['floor'] == '3, Мансарда (4 эт)', 'amnt_floor'] = 2\n",
        "df_train.loc[df_train['floor'] == '1-3', 'amnt_floor'] = 3\n",
        "df_train.loc[df_train['floor'] == 'подвал, 3. 4 этаж', 'amnt_floor'] = 3\n",
        "df_train.loc[df_train['floor'] == '1 + подвал (без отделки)', 'amnt_floor'] = 2\n",
        "df_train.loc[df_train['floor'] == 'подвал , 1 ', 'amnt_floor'] = 2\n",
        "df_train.loc[df_train['floor'] == '4, 5', 'amnt_floor'] = 2\n",
        "df_train.loc[df_train['floor'] == '1, 2.', 'amnt_floor'] = 2\n",
        "df_train.loc[df_train['floor'] == '2, 3', 'amnt_floor'] = 2\n",
        "df_train.loc[df_train['floor'] == '1,2,антресоль', 'amnt_floor'] = 2.5\n",
        "df_train.loc[df_train['floor'] == 'подвал, 1-7, техэтаж', 'amnt_floor'] = 9\n",
        "df_train.loc[df_train['floor'] == '7,8', 'amnt_floor'] = 2\n",
        "df_train.loc[df_train['floor'] == 'подвал, 1-4 этаж', 'amnt_floor'] = 5\n",
        "df_train.loc[df_train['floor'] == '3, мансарда', 'amnt_floor'] = 4\n",
        "df_train.loc[df_train['floor'] == '1, подвал, антресоль', 'amnt_floor'] = 2.5\n",
        "df_train.loc[df_train['floor'] == 'подвал, цоколь, 1 этаж', 'amnt_floor'] = 3\n",
        "df_train.loc[df_train['floor'] == '1.2', 'amnt_floor'] = 2\n",
        "df_train.loc[df_train['floor'] == 'подвал, 1-3', 'amnt_floor'] = 4\n",
        "df_train.loc[df_train['floor'] == 'подвал,1', 'amnt_floor'] = 2\n",
        "df_train.loc[df_train['floor'] == 'подвал, 1,2,3', 'amnt_floor'] = 4\n",
        "df_train.loc[df_train['floor'] == '1-й, подвал', 'amnt_floor'] = 2\n",
        "df_train.loc[df_train['floor'] == 'мансарда', 'amnt_floor'] = 1\n",
        "df_train.loc[df_train['floor'] == 'мезонин', 'amnt_floor'] = 1"
      ],
      "execution_count": 24,
      "outputs": []
    },
    {
      "cell_type": "markdown",
      "metadata": {
        "id": "nSjCuqLiBH5V"
      },
      "source": [
        "## Train Кодирование признака floor "
      ]
    },
    {
      "cell_type": "code",
      "metadata": {
        "id": "A_np6AVpWvfJ"
      },
      "source": [
        "df_train.loc[df_train['floor'] == -1.1, 'floor'] = -1\n",
        "df_train.loc[df_train['floor'] == '1, 2, 3', 'floor'] = 2\n",
        "df_train.loc[df_train['floor'] == '1,2', 'floor'] = 1.5\n",
        "df_train.loc[df_train['floor'] == '1, подвал', 'floor'] = 0.5\n",
        "df_train.loc[df_train['floor'] == 'цоколь', 'floor'] = 0\n",
        "df_train.loc[df_train['floor'] == 'подвал', 'floor'] = -1\n",
        "df_train.loc[df_train['floor'] == '1 этаж', 'floor'] = 1\n",
        "df_train.loc[df_train['floor'] == '4 этаж', 'floor'] = 4\n",
        "df_train.loc[df_train['floor'] == '1-й', 'floor'] = 1\n",
        "df_train.loc[df_train['floor'] == '3 этаж', 'floor'] = 3\n",
        "df_train.loc[df_train['floor'] == 'фактически на уровне 1 этажа', 'floor'] = 1 \n",
        "df_train.loc[df_train['floor'] == '1 (Цокольный этаж)', 'floor'] = 0\n",
        "df_train.loc[df_train['floor'] == '5 этаж', 'floor'] = 5\n",
        "df_train.loc[df_train['floor'] == 'Цоколь', 'floor'] = 0\n",
        "df_train.loc[df_train['floor'] == 'Подвал', 'floor'] = -1\n",
        "df_train.loc[df_train['floor'] == '1, антресоль', 'floor'] = 1 \n",
        "df_train.loc[df_train['floor'] == '5, мансарда', 'floor'] = 5\n",
        "df_train.loc[df_train['floor'] == '3 (антресоль)', 'floor'] = 3\n",
        "df_train.loc[df_train['floor'] == 'мансарда (4эт)', 'floor'] = 4\n",
        "df_train.loc[df_train['floor'] == 'тех.этаж (6)', 'floor'] = 6\n",
        "df_train.loc[df_train['floor'] == '1,2,3,4', 'floor'] = 2.5\n",
        "df_train.loc[df_train['floor'] == 'цоколь, 1', 'floor'] = 0.5\n",
        "df_train.loc[df_train['floor'] == 'подвал , 1', 'floor'] = 0.5\n",
        "df_train.loc[df_train['floor'] == '1 этаж, подвал', 'floor'] = 0.5\n",
        "df_train.loc[df_train['floor'] == 'Цоколь, 1,2(мансарда)', 'floor'] = 1\n",
        "df_train.loc[df_train['floor'] == 'подвал , 1', 'floor'] = 0.5\n",
        "df_train.loc[df_train['floor'] == '1, цоколь', 'floor'] = 0.5\n",
        "df_train.loc[df_train['floor'] == 'подвал,1,2,3,4,5', 'floor'] = 2.5\n",
        "df_train.loc[df_train['floor'] == '1, 2', 'floor'] = 1.5\n",
        "df_train.loc[df_train['floor'] == 'подвал , 1', 'floor'] = 0.5\n",
        "df_train.loc[df_train['floor'] == '1 этаж, подвал', 'floor'] = 0.5\n",
        "df_train.loc[df_train['floor'] == 'подвал, 1', 'floor'] = 0.5\n",
        "df_train.loc[df_train['floor'] == '1,2,3', 'floor'] = 2\n",
        "df_train.loc[df_train['floor'] == '2,3', 'floor'] = 2.5\n",
        "df_train.loc[df_train['floor'] == 'подва, 1.2 этаж', 'floor'] = 1\n",
        "df_train.loc[df_train['floor'] == '1-й, 2-й', 'floor'] = 1.5\n",
        "df_train.loc[df_train['floor'] == '1,2,3,4,5', 'floor'] = 3\n",
        "df_train.loc[df_train['floor'] == '3, Мансарда (4 эт)', 'floor'] = 3.5\n",
        "df_train.loc[df_train['floor'] == '1-3', 'floor'] = 2\n",
        "df_train.loc[df_train['floor'] == 'подвал, 3. 4 этаж', 'floor'] = 3\n",
        "df_train.loc[df_train['floor'] == '1 + подвал (без отделки)', 'floor'] = 0.5\n",
        "df_train.loc[df_train['floor'] == 'подвал , 1 ', 'floor'] = 0.5\n",
        "df_train.loc[df_train['floor'] == '4, 5', 'floor'] = 4.5\n",
        "df_train.loc[df_train['floor'] == '1, 2.', 'floor'] = 1.5\n",
        "df_train.loc[df_train['floor'] == '2, 3', 'floor'] = 2.5\n",
        "df_train.loc[df_train['floor'] == '1,2,антресоль', 'floor'] = 2\n",
        "df_train.loc[df_train['floor'] == 'подвал, 1-7, техэтаж', 'floor'] = 4.5\n",
        "df_train.loc[df_train['floor'] == '7,8', 'floor'] = 7.5\n",
        "df_train.loc[df_train['floor'] == 'подвал, 1-4 этаж', 'floor'] = 3\n",
        "df_train.loc[df_train['floor'] == '3, мансарда', 'floor'] = 3.5\n",
        "df_train.loc[df_train['floor'] == '1, подвал, антресоль', 'floor'] = 0.5\n",
        "df_train.loc[df_train['floor'] == 'подвал, цоколь, 1 этаж', 'floor'] = 0\n",
        "df_train.loc[df_train['floor'] == '1.2', 'floor'] = 1.5\n",
        "df_train.loc[df_train['floor'] == 'подвал, 1-3', 'floor'] = 1.5\n",
        "df_train.loc[df_train['floor'] == 'подвал,1', 'floor'] = 0.5\n",
        "df_train.loc[df_train['floor'] == 'подвал, 1,2,3', 'floor'] = 1.5\n",
        "df_train.loc[df_train['floor'] == '1-й, подвал', 'floor'] = 0.5\n",
        "df_train.loc[df_train['floor'] == 'мансарда', 'floor'] = -1.1\n",
        "df_train.loc[df_train['floor'] == 'мезонин', 'floor'] = -1.1"
      ],
      "execution_count": 25,
      "outputs": []
    },
    {
      "cell_type": "markdown",
      "metadata": {
        "id": "0wzHxIY5BP_q"
      },
      "source": [
        "### Test признак с количеством этажей"
      ]
    },
    {
      "cell_type": "code",
      "metadata": {
        "id": "lOjOxvpvBa1x"
      },
      "source": [
        "df_test['amnt_floor'] = None"
      ],
      "execution_count": 26,
      "outputs": []
    },
    {
      "cell_type": "code",
      "metadata": {
        "colab": {
          "base_uri": "https://localhost:8080/"
        },
        "id": "3IFhoNKCVRrL",
        "outputId": "8afa555e-346f-4a55-f1db-3aa6ea2e3a67"
      },
      "source": [
        "df_test.floor.unique()"
      ],
      "execution_count": 27,
      "outputs": [
        {
          "output_type": "execute_result",
          "data": {
            "text/plain": [
              "array(['1.0', '-1.0', nan, '2,3', '2', '-2.0', '5.0', '4', '1', '5',\n",
              "       '1, 2', '1,2,3', '2.0', '4.0', '1,2,3,4', 'цоколь', '3', 'подвал',\n",
              "       '3.0', '11.0', '9.0', '12.0', '0.0', 'цоколь, 1, 2,3,4,5,6', '6',\n",
              "       '1,2', ' 1, 2, Антресоль', '6.0', '3 этаж, мансарда (4 этаж)',\n",
              "       'цокольный', '1-й, 2-й', '13', '1, подвал', '7', '1, 2, 3', '1,2 ',\n",
              "       '14', '9', 'подвал,1', '1-й', '8', '3,4', 'мансарда',\n",
              "       'подвал, 1 и 4 этаж', '10.0', '5(мансарда)',\n",
              "       'технический этаж,5,6', ' 1-2, подвальный', '1, 2, 3, мансардный',\n",
              "       '8.0', '7.0', 'подвал, 1, 2, 3',\n",
              "       '1,2,3, антресоль, технический этаж', '3, 4', '4, 5',\n",
              "       '1-3 этажи, цоколь (188,4 кв.м), подвал (104 кв.м)',\n",
              "       '1,2,3,4, подвал', '2-й', '1, 2 этаж', '1,2,3,4,5', 'подвал, 1, 2',\n",
              "       '1-7', '1 (по док-м цоколь)', '1-й, подвал', '10', '1,2,подвал ',\n",
              "       '13.0', 'подвал, 2', '1, цоколь', 'подвал,1,2,3',\n",
              "       '1,2,3 этаж, подвал', 'цоколь, 1', '2, 3, 4, тех.этаж',\n",
              "       'цокольный, 1,2', 'Техническое подполье'], dtype=object)"
            ]
          },
          "metadata": {},
          "execution_count": 27
        }
      ]
    },
    {
      "cell_type": "code",
      "metadata": {
        "id": "paVKDdo0e7iF"
      },
      "source": [
        "df_test.loc[df_test['floor'] == '1', 'amnt_floor'] = 1\n",
        "df_test.loc[df_test['floor'] == '-1.0', 'amnt_floor'] = 1\n",
        "df_test.loc[df_test['floor'] == '2', 'amnt_floor'] = 1\n",
        "df_test.loc[df_test['floor'] == '-2.0', 'amnt_floor'] = 1\n",
        "df_test.loc[df_test['floor'] == '5.0', 'amnt_floor'] = 1\n",
        "df_test.loc[df_test['floor'] == '4', 'amnt_floor'] = 1\n",
        "df_test.loc[df_test['floor'] == '1', 'amnt_floor'] = 1\n",
        "df_test.loc[df_test['floor'] == '5', 'amnt_floor'] = 1\n",
        "df_test.loc[df_test['floor'] == '2.0', 'amnt_floor'] = 1\n",
        "df_test.loc[df_test['floor'] == '4.0', 'amnt_floor'] = 1\n",
        "df_test.loc[df_test['floor'] == '3', 'amnt_floor'] = 1\n",
        "df_test.loc[df_test['floor'] == '3.0', 'amnt_floor'] = 1\n",
        "df_test.loc[df_test['floor'] == '11.0', 'amnt_floor'] = 1\n",
        "df_test.loc[df_test['floor'] == '9.0', 'amnt_floor'] = 1\n",
        "df_test.loc[df_test['floor'] == '12.0', 'amnt_floor'] = 1\n",
        "df_test.loc[df_test['floor'] == '0.0', 'amnt_floor'] = 1\n",
        "df_test.loc[df_test['floor'] == '6', 'amnt_floor'] = 1\n",
        "df_test.loc[df_test['floor'] == '6.0', 'amnt_floor'] = 1\n",
        "df_test.loc[df_test['floor'] == '13', 'amnt_floor'] = 1\n",
        "df_test.loc[df_test['floor'] == '7', 'amnt_floor'] = 1\n",
        "df_test.loc[df_test['floor'] == '14', 'amnt_floor'] = 1\n",
        "df_test.loc[df_test['floor'] == '9', 'amnt_floor'] = 1\n",
        "df_test.loc[df_test['floor'] == '8', 'amnt_floor'] = 1\n",
        "df_test.loc[df_test['floor'] == '10.0', 'amnt_floor'] = 1\n",
        "df_test.loc[df_test['floor'] == '8.0', 'amnt_floor'] = 1\n",
        "df_test.loc[df_test['floor'] == '7.0', 'amnt_floor'] = 1\n",
        "df_test.loc[df_test['floor'] == '10', 'amnt_floor'] = 1\n",
        "df_test.loc[df_test['floor'] == '13.0', 'amnt_floor'] = 1"
      ],
      "execution_count": 28,
      "outputs": []
    },
    {
      "cell_type": "code",
      "metadata": {
        "id": "FIOnN49lcaWY"
      },
      "source": [
        "df_test.loc[df_test['floor'] == '1,2 ', 'amnt_floor'] = 2\n",
        "df_test.loc[df_test['floor'] == '1,2,подвал ', 'amnt_floor'] = 3\n",
        "df_test.loc[df_test['floor'] == 'цоколь', 'amnt_floor'] = 1\n",
        "df_test.loc[df_test['floor'] == 'подвал', 'amnt_floor'] = 1\n",
        "df_test.loc[df_test['floor'] == '1,2', 'amnt_floor'] = 2\n",
        "df_test.loc[df_test['floor'] == 'цокольный', 'amnt_floor'] = 1\n",
        "df_test.loc[df_test['floor'] == 'Техническое подполье', 'amnt_floor'] = 1\n",
        "df_test.loc[df_test['floor'] == '1-й', 'amnt_floor'] = 1\n",
        "df_test.loc[df_test['floor'] == '1, 2, 3', 'amnt_floor'] = 3\n",
        "df_test.loc[df_test['floor'] == '5(мансарда)', 'amnt_floor'] = 1\n",
        "df_test.loc[df_test['floor'] == '1,2,3 этаж, подвал', 'amnt_floor'] = 4\n",
        "df_test.loc[df_test['floor'] == '1, подвал', 'amnt_floor'] = 2\n",
        "df_test.loc[df_test['floor'] == '1, 2', 'amnt_floor'] = 2\n",
        "df_test.loc[df_test['floor'] == '1, 2, 3', 'amnt_floor'] = 3\n",
        "df_test.loc[df_test['floor'] == '1,2,3 этаж, подвал', 'amnt_floor'] = 4\n",
        "df_test.loc[df_test['floor'] == 'цоколь, 1, 2,3,4,5,6', 'amnt_floor'] = 7\n",
        "df_test.loc[df_test['floor'] == '1,2,3', 'amnt_floor'] = 3\n",
        "df_test.loc[df_test['floor'] == '3, 4', 'amnt_floor'] = 2\n",
        "df_test.loc[df_test['floor'] == '1-й, подвал', 'amnt_floor'] = 2\n",
        "df_test.loc[df_test['floor'] == 'подвал,1', 'amnt_floor'] = 2\n",
        "df_test.loc[df_test['floor'] == '1 (по док-м цоколь)', 'amnt_floor'] = 1\n",
        "df_test.loc[df_test['floor'] == '1,2,3, антресоль, технический этаж', 'amnt_floor'] = 4\n",
        "df_test.loc[df_test['floor'] == '1-й, 2-й', 'amnt_floor'] = 2\n",
        "df_test.loc[df_test['floor'] == 'подвал,1,2,3', 'amnt_floor'] = 4\n",
        "df_test.loc[df_test['floor'] == '1,2', 'amnt_floor'] = 2\n",
        "df_test.loc[df_test['floor'] == '1,2,3,4,5', 'amnt_floor'] = 5\n",
        "df_test.loc[df_test['floor'] == '3 этаж, мансарда (4 этаж)', 'amnt_floor'] = 2\n",
        "df_test.loc[df_test['floor'] == 'подвал, 1, 2', 'amnt_floor'] = 3\n",
        "df_test.loc[df_test['floor'] == '1-7', 'amnt_floor'] = 7\n",
        "df_test.loc[df_test['floor'] == '3,4', 'amnt_floor'] = 2\n",
        "df_test.loc[df_test['floor'] == '1,2,подвал', 'amnt_floor'] = 3\n",
        "df_test.loc[df_test['floor'] == '2-й', 'amnt_floor'] = 1\n",
        "df_test.loc[df_test['floor'] == '1-3 этажи, цоколь (188,4 кв.м), подвал (104 кв.м)', 'amnt_floor'] = 5\n",
        "df_test.loc[df_test['floor'] == '1,2,подвал', 'amnt_floor'] = 3\n",
        "df_test.loc[df_test['floor'] == '1, 2 этаж', 'amnt_floor'] = 2\n",
        "df_test.loc[df_test['floor'] == 'мансарда', 'amnt_floor'] = 1\n",
        "df_test.loc[df_test['floor'] == '1, цоколь', 'amnt_floor'] = 2\n",
        "df_test.loc[df_test['floor'] == '1, 2, 3, мансардный', 'amnt_floor'] = 4\n",
        "df_test.loc[df_test['floor'] == 'подвал, 1, 2, 3', 'amnt_floor'] = 4\n",
        "df_test.loc[df_test['floor'] == '1,2,3,4', 'amnt_floor'] = 4\n",
        "df_test.loc[df_test['floor'] == 'подвал, 1 и 4 этаж', 'amnt_floor'] = 5\n",
        "df_test.loc[df_test['floor'] == '1,2,3,4, подвал', 'amnt_floor'] = 5\n",
        "df_test.loc[df_test['floor'] == 'цокольный, 1,2, подвал', 'amnt_floor'] = 4\n",
        "df_test.loc[df_test['floor'] == 'технический этаж,5,6', 'amnt_floor'] = 3\n",
        "df_test.loc[df_test['floor'] == '2,3', 'amnt_floor'] = 2\n",
        "df_test.loc[df_test['floor'] == ' 1-2, подвальный', 'amnt_floor'] = 3\n",
        "df_test.loc[df_test['floor'] == 'подвал, 2', 'amnt_floor'] = 2\n",
        "df_test.loc[df_test['floor'] == '1,2', 'amnt_floor'] = 2\n",
        "df_test.loc[df_test['floor'] == 'цоколь, 1', 'amnt_floor'] = 2\n",
        "df_test.loc[df_test['floor'] == '2, 3, 4, тех.этаж', 'amnt_floor'] = 4\n",
        "df_test.loc[df_test['floor'] == '4, 5', 'amnt_floor'] = 2\n",
        "df_test.loc[df_test['floor'] == ' 1, 2, Антресоль', 'amnt_floor'] = 2.5\n",
        "df_test.loc[df_test['floor'] == '1,2', 'amnt_floor'] = 2\n",
        "df_test.loc[df_test['floor'] == '1,2,подвал', 'amnt_floor'] = 3\n",
        "df_test.loc[df_test['floor'] == 'цокольный, 1,2', 'amnt_floor'] = 3"
      ],
      "execution_count": 30,
      "outputs": []
    },
    {
      "cell_type": "markdown",
      "metadata": {
        "id": "9E4yCOYFBV5n"
      },
      "source": [
        "### Test кодирование признака floor\n"
      ]
    },
    {
      "cell_type": "code",
      "metadata": {
        "id": "t_B-gjfMVecF"
      },
      "source": [
        "df_test.loc[df_test['floor'] == '1,2 ', 'floor'] = 1.5\n",
        "df_test.loc[df_test['floor'] == '1,2,подвал ', 'floor'] = 1\n",
        "df_test.loc[df_test['floor'] == 'цоколь', 'floor'] = 0\n",
        "df_test.loc[df_test['floor'] == 'подвал', 'floor'] = -1\n",
        "df_test.loc[df_test['floor'] == '1,2', 'floor'] = 1.5\n",
        "df_test.loc[df_test['floor'] == 'цокольный', 'floor'] = 0\n",
        "df_test.loc[df_test['floor'] == 'Техническое подполье', 'floor'] = -1\n",
        "df_test.loc[df_test['floor'] == '1-й', 'floor'] = 1\n",
        "df_test.loc[df_test['floor'] == '1, 2, 3', 'floor'] = 2\n",
        "df_test.loc[df_test['floor'] == '5(мансарда)', 'floor'] = 5\n",
        "df_test.loc[df_test['floor'] == '1,2,3 этаж, подвал', 'floor'] = 1.5\n",
        "df_test.loc[df_test['floor'] == '1, подвал', 'floor'] = 0.5\n",
        "df_test.loc[df_test['floor'] == '1, 2', 'floor'] = 1.5\n",
        "df_test.loc[df_test['floor'] == '1, 2, 3', 'floor'] = 2\n",
        "df_test.loc[df_test['floor'] == '1,2,3 этаж, подвал', 'floor'] = 1.5\n",
        "df_test.loc[df_test['floor'] == 'цоколь, 1, 2,3,4,5,6', 'floor'] = 3\n",
        "df_test.loc[df_test['floor'] == '1,2,3', 'floor'] = 2\n",
        "df_test.loc[df_test['floor'] == '3, 4', 'floor'] = 3.5\n",
        "df_test.loc[df_test['floor'] == '1-й, подвал', 'floor'] = 0.5\n",
        "df_test.loc[df_test['floor'] == 'подвал,1', 'floor'] = 0.5\n",
        "df_test.loc[df_test['floor'] == '1 (по док-м цоколь)', 'floor'] = 0\n",
        "df_test.loc[df_test['floor'] == '1,2,3, антресоль, технический этаж', 'floor'] = 2.5\n",
        "df_test.loc[df_test['floor'] == '1-й, 2-й', 'floor'] = 1.5\n",
        "df_test.loc[df_test['floor'] == 'подвал,1,2,3', 'floor'] = 1.5\n",
        "df_test.loc[df_test['floor'] == '1,2', 'floor'] = 1.5\n",
        "df_test.loc[df_test['floor'] == '1,2,3,4,5', 'floor'] = 3\n",
        "df_test.loc[df_test['floor'] == '3 этаж, мансарда (4 этаж)', 'floor'] = 3.5\n",
        "df_test.loc[df_test['floor'] == 'подвал, 1, 2', 'floor'] = 1\n",
        "df_test.loc[df_test['floor'] == '1-7', 'floor'] = 4\n",
        "df_test.loc[df_test['floor'] == '3,4', 'floor'] = 3.5\n",
        "df_test.loc[df_test['floor'] == '1,2,подвал', 'floor'] = 1\n",
        "df_test.loc[df_test['floor'] == '2-й', 'floor'] = 2\n",
        "df_test.loc[df_test['floor'] == '1-3 этажи, цоколь (188,4 кв.м), подвал (104 кв.м)', 'floor'] = 1\n",
        "df_test.loc[df_test['floor'] == '1,2,подвал', 'floor'] = 1\n",
        "df_test.loc[df_test['floor'] == '1, 2 этаж', 'floor'] = 1.5\n",
        "df_test.loc[df_test['floor'] == 'мансарда', 'floor'] = -1.1\n",
        "df_test.loc[df_test['floor'] == '1, цоколь', 'floor'] = 0.5\n",
        "df_test.loc[df_test['floor'] == '1, 2, 3, мансардный', 'floor'] = 2.5\n",
        "df_test.loc[df_test['floor'] == 'подвал, 1, 2, 3', 'floor'] = 1.5\n",
        "df_test.loc[df_test['floor'] == '1,2,3,4', 'floor'] = 2.5\n",
        "df_test.loc[df_test['floor'] == 'подвал, 1 и 4 этаж', 'floor'] = 2\n",
        "df_test.loc[df_test['floor'] == '1,2,3,4, подвал', 'floor'] = 2\n",
        "df_test.loc[df_test['floor'] == 'цокольный, 1,2, подвал', 'floor'] = 1\n",
        "df_test.loc[df_test['floor'] == 'технический этаж,5,6', 'floor'] = 5\n",
        "df_test.loc[df_test['floor'] == '2,3', 'floor'] = 2.5\n",
        "df_test.loc[df_test['floor'] == ' 1-2, подвальный', 'floor'] = 1\n",
        "df_test.loc[df_test['floor'] == 'подвал, 2', 'floor'] = 1\n",
        "df_test.loc[df_test['floor'] == '1,2', 'floor'] = 1.5\n",
        "df_test.loc[df_test['floor'] == 'цоколь, 1', 'floor'] = 0.5\n",
        "df_test.loc[df_test['floor'] == '2, 3, 4, тех.этаж', 'floor'] = 3.5\n",
        "df_test.loc[df_test['floor'] == '4, 5', 'floor'] = 4.5\n",
        "df_test.loc[df_test['floor'] == ' 1, 2, Антресоль', 'floor'] = 2\n",
        "df_test.loc[df_test['floor'] == '1,2', 'floor'] = 1.5\n",
        "df_test.loc[df_test['floor'] == '1,2,подвал', 'floor'] = 1\n",
        "df_test.loc[df_test['floor'] == 'цокольный, 1,2', 'floor'] = 1"
      ],
      "execution_count": 32,
      "outputs": []
    },
    {
      "cell_type": "markdown",
      "metadata": {
        "id": "mG4qDS13twdI"
      },
      "source": [
        "Переведем значения признаков **floor** и **amnt_floor** в float"
      ]
    },
    {
      "cell_type": "code",
      "metadata": {
        "id": "dO6aWWmmW8G5"
      },
      "source": [
        "df_train['floor'] = df_train['floor'].astype(float)\n",
        "df_train['amnt_floor'] = df_train['amnt_floor'].astype(float)\n",
        "\n",
        "df_test['floor'] = df_test['floor'].astype(float)\n",
        "df_test['amnt_floor'] = df_test['amnt_floor'].astype(float)"
      ],
      "execution_count": 37,
      "outputs": []
    },
    {
      "cell_type": "markdown",
      "metadata": {
        "id": "SOmMM-Ewt-oU"
      },
      "source": [
        "Создадим признак **month**, чтобы группировать данные по месяцам при кросс-валидации, а **date** удалим"
      ]
    },
    {
      "cell_type": "code",
      "metadata": {
        "id": "ermDtd-XaDSW"
      },
      "source": [
        "df_train['month'] = pd.DatetimeIndex(df_train['date']).month\n",
        "df_test['month'] = pd.DatetimeIndex(df_test['date']).month\n",
        "\n",
        "df_train.drop('date', axis=1, inplace=True)\n",
        "df_test.drop('date', axis=1, inplace=True)"
      ],
      "execution_count": 38,
      "outputs": []
    },
    {
      "cell_type": "markdown",
      "metadata": {
        "id": "FjkV7xN_eyJ1"
      },
      "source": [
        "## Кодирование категориальных признаков"
      ]
    },
    {
      "cell_type": "markdown",
      "metadata": {
        "id": "iyZKkFo4uah_"
      },
      "source": [
        "Для кодирования категориальных признаков будем использовать алгоритм **Target Encoding**"
      ]
    },
    {
      "cell_type": "code",
      "metadata": {
        "id": "FcKF_CJ0V2jl"
      },
      "source": [
        "import typing\n",
        "from sklearn.base import BaseEstimator, TransformerMixin\n",
        "from sklearn.exceptions import NotFittedError\n",
        "\n",
        "class SmoothedTargetEncoding(BaseEstimator,TransformerMixin):\n",
        "    \"\"\"Регуляризованный таргет энкодинг.\n",
        "\n",
        "    :param categorical_features: список из столбцов с категориальными признаками, которые нужно заэнкодить\n",
        "    :param alpha: параметр регуляризации\n",
        "    \"\"\"\n",
        "\n",
        "    def __init__(self, categorical_features: typing.List[str], alpha: float = 50.0):\n",
        "        self.__is_fitted = False\n",
        "        self.categorical_features = categorical_features\n",
        "        self.alpha = alpha\n",
        "        self.mean_price = None\n",
        "        self.mean_price_by_cat = {}\n",
        "        self.encoded_preffix = \"encoded_\"\n",
        "        self.target = 'target'\n",
        "\n",
        "    def smoothed_target_encoding(self, y: pd.Series) -> pd.Series:\n",
        "        \"\"\"Реализация регуляризованного таргед энкодинга.\n",
        "\n",
        "        Принцип такой - чем меньше исходных данных, тем сильнее будет регуляризация\n",
        "        Параметр регуляризации регуляризует мин. кол-во необходимых данных\n",
        "        :param y: pd.Series с ценой\n",
        "        :return: pd.Series с регуляризованной ценой\n",
        "        \"\"\"\n",
        "        nrows = y.notnull().sum()\n",
        "        return (y.mean() * nrows + self.alpha * self.mean_price) / (nrows + self.alpha)\n",
        "\n",
        "    def fit(self, X: pd.DataFrame, y: typing.Union[np.array, pd.Series] = None):\n",
        "        \"\"\"На основе обучающей выборки запоминает средние цены в разрезе категорий.\n",
        "\n",
        "        :param X: pd.DataFrame, выборка из категориальных признаков\n",
        "        :param y: target\n",
        "        :return:\n",
        "        \"\"\"\n",
        "        X[self.target] = y\n",
        "        self.mean_price = X[self.target].mean()\n",
        "        for col in self.categorical_features:\n",
        "            self.mean_price_by_cat[col] = (\n",
        "                X.groupby(col)[self.target].apply(lambda x: self.smoothed_target_encoding(x)).fillna(self.mean_price)\n",
        "            )\n",
        "\n",
        "        X.drop(self.target, axis=1, inplace=True)\n",
        "        self.__is_fitted = True\n",
        "        return self\n",
        "\n",
        "    def transform(self, X: pd.DataFrame, y: typing.Union[np.array, pd.Series] = None):\n",
        "        \"\"\"Применение регуляризованного таргет энкодинга.\n",
        "\n",
        "        :param X: pd.DataFrame, выборка из категориальных признаков\n",
        "        :return: pd.DataFrame, закодированная выборка\n",
        "        \"\"\"\n",
        "        X_cp = X.copy()\n",
        "        if self.__is_fitted:\n",
        "            encoded_cols = []\n",
        "            for col in self.categorical_features:\n",
        "                new_col = self.encoded_preffix + col\n",
        "                X_cp[new_col] = X_cp[col].map(self.mean_price_by_cat[col]).fillna(self.mean_price)\n",
        "                encoded_cols.append(new_col)\n",
        "            return X_cp[encoded_cols]\n",
        "        else:\n",
        "            raise NotFittedError(\n",
        "                \"This {} instance is not fitted yet. Call 'fit' with appropriate arguments before using this transformer\".format(\n",
        "                    type(self).__name__\n",
        "                )\n",
        "            )"
      ],
      "execution_count": 40,
      "outputs": []
    },
    {
      "cell_type": "code",
      "metadata": {
        "id": "ISSU80DLa2-U"
      },
      "source": [
        "# категориальные признаки\n",
        "categorical = df_train.columns[df_train.dtypes == 'object']"
      ],
      "execution_count": 41,
      "outputs": []
    },
    {
      "cell_type": "code",
      "metadata": {
        "id": "UXLPA6i8cDnH"
      },
      "source": [
        "# иинциализация энкодера\n",
        "encoder = SmoothedTargetEncoding(df_train[categorical].columns.to_list())\n",
        "\n",
        "# обучение энкодера\n",
        "encoder.fit(pd.concat([df_train, df_test]), df_train['per_square_meter_price'])\n",
        "\n",
        "# кодирование категориальных признаков\n",
        "encoded = encoder.transform(pd.concat([df_train, df_test]), df_train['per_square_meter_price'])"
      ],
      "execution_count": 42,
      "outputs": []
    },
    {
      "cell_type": "code",
      "metadata": {
        "colab": {
          "base_uri": "https://localhost:8080/",
          "height": 450
        },
        "id": "_4Ot0k_ogU-A",
        "outputId": "635ee0af-dbe5-4649-a21f-e06c6da0d82f"
      },
      "source": [
        "encoded"
      ],
      "execution_count": 43,
      "outputs": [
        {
          "output_type": "execute_result",
          "data": {
            "text/html": [
              "<div>\n",
              "<style scoped>\n",
              "    .dataframe tbody tr th:only-of-type {\n",
              "        vertical-align: middle;\n",
              "    }\n",
              "\n",
              "    .dataframe tbody tr th {\n",
              "        vertical-align: top;\n",
              "    }\n",
              "\n",
              "    .dataframe thead th {\n",
              "        text-align: right;\n",
              "    }\n",
              "</style>\n",
              "<table border=\"1\" class=\"dataframe\">\n",
              "  <thead>\n",
              "    <tr style=\"text-align: right;\">\n",
              "      <th></th>\n",
              "      <th>encoded_city</th>\n",
              "      <th>encoded_osm_city_nearest_name</th>\n",
              "      <th>encoded_region</th>\n",
              "      <th>encoded_street</th>\n",
              "    </tr>\n",
              "    <tr>\n",
              "      <th>id</th>\n",
              "      <th></th>\n",
              "      <th></th>\n",
              "      <th></th>\n",
              "      <th></th>\n",
              "    </tr>\n",
              "  </thead>\n",
              "  <tbody>\n",
              "    <tr>\n",
              "      <th>COL_62</th>\n",
              "      <td>72678.799595</td>\n",
              "      <td>71870.082281</td>\n",
              "      <td>71866.025545</td>\n",
              "      <td>72081.910401</td>\n",
              "    </tr>\n",
              "    <tr>\n",
              "      <th>COL_71</th>\n",
              "      <td>54302.836712</td>\n",
              "      <td>54302.836712</td>\n",
              "      <td>54346.996221</td>\n",
              "      <td>65918.963210</td>\n",
              "    </tr>\n",
              "    <tr>\n",
              "      <th>COL_140</th>\n",
              "      <td>72678.799595</td>\n",
              "      <td>71870.082281</td>\n",
              "      <td>71866.025545</td>\n",
              "      <td>69069.930097</td>\n",
              "    </tr>\n",
              "    <tr>\n",
              "      <th>COL_202</th>\n",
              "      <td>70098.040766</td>\n",
              "      <td>69205.210090</td>\n",
              "      <td>64704.085510</td>\n",
              "      <td>67823.093751</td>\n",
              "    </tr>\n",
              "    <tr>\n",
              "      <th>COL_207</th>\n",
              "      <td>54325.773969</td>\n",
              "      <td>54195.875112</td>\n",
              "      <td>53662.593055</td>\n",
              "      <td>66589.044235</td>\n",
              "    </tr>\n",
              "    <tr>\n",
              "      <th>...</th>\n",
              "      <td>...</td>\n",
              "      <td>...</td>\n",
              "      <td>...</td>\n",
              "      <td>...</td>\n",
              "    </tr>\n",
              "    <tr>\n",
              "      <th>COL_455089</th>\n",
              "      <td>72678.799595</td>\n",
              "      <td>71870.082281</td>\n",
              "      <td>71866.025545</td>\n",
              "      <td>67747.100260</td>\n",
              "    </tr>\n",
              "    <tr>\n",
              "      <th>COL_455212</th>\n",
              "      <td>52989.054741</td>\n",
              "      <td>52681.526654</td>\n",
              "      <td>52864.946496</td>\n",
              "      <td>69012.011925</td>\n",
              "    </tr>\n",
              "    <tr>\n",
              "      <th>COL_455261</th>\n",
              "      <td>55448.669383</td>\n",
              "      <td>55386.177957</td>\n",
              "      <td>54487.717833</td>\n",
              "      <td>69158.611507</td>\n",
              "    </tr>\n",
              "    <tr>\n",
              "      <th>COL_455381</th>\n",
              "      <td>55424.172106</td>\n",
              "      <td>55139.165726</td>\n",
              "      <td>54573.986642</td>\n",
              "      <td>67009.573505</td>\n",
              "    </tr>\n",
              "    <tr>\n",
              "      <th>COL_455397</th>\n",
              "      <td>55424.172106</td>\n",
              "      <td>55139.165726</td>\n",
              "      <td>54573.986642</td>\n",
              "      <td>68593.938662</td>\n",
              "    </tr>\n",
              "  </tbody>\n",
              "</table>\n",
              "<p>7467 rows × 4 columns</p>\n",
              "</div>"
            ],
            "text/plain": [
              "            encoded_city  ...  encoded_street\n",
              "id                        ...                \n",
              "COL_62      72678.799595  ...    72081.910401\n",
              "COL_71      54302.836712  ...    65918.963210\n",
              "COL_140     72678.799595  ...    69069.930097\n",
              "COL_202     70098.040766  ...    67823.093751\n",
              "COL_207     54325.773969  ...    66589.044235\n",
              "...                  ...  ...             ...\n",
              "COL_455089  72678.799595  ...    67747.100260\n",
              "COL_455212  52989.054741  ...    69012.011925\n",
              "COL_455261  55448.669383  ...    69158.611507\n",
              "COL_455381  55424.172106  ...    67009.573505\n",
              "COL_455397  55424.172106  ...    68593.938662\n",
              "\n",
              "[7467 rows x 4 columns]"
            ]
          },
          "metadata": {},
          "execution_count": 43
        }
      ]
    },
    {
      "cell_type": "code",
      "metadata": {
        "id": "TRzxzYQof8F4"
      },
      "source": [
        "# числовые признаки\n",
        "numerical = df_test.columns[df_test.dtypes != 'object']\n",
        "\n",
        "# выборка из чиловых признаков\n",
        "numerical_df = pd.concat([df_train[numerical], df_test[numerical]])\n",
        "\n",
        "# объединим закодированную категориальную и числовую выборки\n",
        "final_df = pd.concat([numerical_df, encoded], axis=1)"
      ],
      "execution_count": 44,
      "outputs": []
    },
    {
      "cell_type": "markdown",
      "metadata": {
        "id": "s_BROTxiF9J8"
      },
      "source": [
        "## Генерация новых признаков"
      ]
    },
    {
      "cell_type": "markdown",
      "metadata": {
        "id": "M5acALWiNz-g"
      },
      "source": [
        "Сгенерируем новые признаки путем агрегирования имеющихся, на основе признаков с самой высокой корреляцией с целевой переменной, помимо этого пробовали это делать на основе самых важных признаков, после обучения первой модели, но этот подход показал себя хуже."
      ]
    },
    {
      "cell_type": "code",
      "metadata": {
        "id": "PD8wxob2EyJk"
      },
      "source": [
        "# добавим в новый датафрейм целевую переменную\n",
        "final_df['target'] = df_train['per_square_meter_price']"
      ],
      "execution_count": 45,
      "outputs": []
    },
    {
      "cell_type": "code",
      "metadata": {
        "colab": {
          "base_uri": "https://localhost:8080/"
        },
        "id": "3EK0vBJ4E5vo",
        "outputId": "8cf19de8-7e59-4914-f1b0-748f113703d2"
      },
      "source": [
        "# признаки с самой высокой корреляцией с целевой переменной\n",
        "final_df.corr()['target'].sort_values(ascending=False).head(20)"
      ],
      "execution_count": 46,
      "outputs": [
        {
          "output_type": "execute_result",
          "data": {
            "text/plain": [
              "target                           1.000000\n",
              "encoded_street                   0.548010\n",
              "osm_catering_points_in_0.0075    0.530931\n",
              "osm_hotels_points_in_0.005       0.530383\n",
              "osm_hotels_points_in_0.0075      0.529142\n",
              "osm_hotels_points_in_0.01        0.528754\n",
              "osm_catering_points_in_0.01      0.528271\n",
              "osm_catering_points_in_0.005     0.524550\n",
              "encoded_region                   0.515099\n",
              "osm_offices_points_in_0.005      0.512835\n",
              "encoded_city                     0.511094\n",
              "osm_offices_points_in_0.01       0.507586\n",
              "encoded_osm_city_nearest_name    0.503054\n",
              "osm_amenity_points_in_0.01       0.502173\n",
              "osm_offices_points_in_0.0075     0.501714\n",
              "osm_amenity_points_in_0.0075     0.495242\n",
              "osm_catering_points_in_0.001     0.488075\n",
              "osm_amenity_points_in_0.005      0.487470\n",
              "osm_shops_points_in_0.01         0.486203\n",
              "osm_healthcare_points_in_0.01    0.474950\n",
              "Name: target, dtype: float64"
            ]
          },
          "metadata": {},
          "execution_count": 46
        }
      ]
    },
    {
      "cell_type": "code",
      "metadata": {
        "id": "IcZo0-QvMM6g"
      },
      "source": [
        "def agg_features(main_columns, group_columns, aggregations, df):\n",
        "  \"\"\"Создание новых агрегированных признаков\n",
        "\n",
        "  :param main_columns: list, числовые признаки, по которым будет агрегация\n",
        "  :param group_columns: list, категориальные признаки, по которым будет группировка данных\n",
        "  :param aggregations: list, функция агрегирования\n",
        "  :param df: pd.DataFrame, датафрейм, в котором создаются новые признаки\n",
        "  :return: pd.DataFrame, датафрейм с новыми агрегированными признаквами\n",
        "  \"\"\"\n",
        "  for main_column in main_columns:  \n",
        "      for col in group_columns:\n",
        "          for agg in aggregations:\n",
        "              new_col_name = f'{main_column}_{col}_{agg}'\n",
        "                \n",
        "              new_df = df.groupby([col])[main_column].agg([agg]).reset_index().rename(columns={agg: new_col_name})\n",
        "\n",
        "              new_df.index = list(new_df[col])\n",
        "              new_df = new_df[new_col_name].to_dict()   \n",
        "\n",
        "              df[new_col_name] = df[col].map(new_df).astype('float32')\n",
        "\n",
        "              print(f'{new_col_name}, ', end='')  "
      ],
      "execution_count": 48,
      "outputs": []
    },
    {
      "cell_type": "code",
      "metadata": {
        "colab": {
          "base_uri": "https://localhost:8080/"
        },
        "id": "kABg105KMObk",
        "outputId": "84f2dd70-2b8e-49d3-ed39-5a84cd14099b"
      },
      "source": [
        "agg_features(['osm_catering_points_in_0.0075', \n",
        "           'osm_hotels_points_in_0.005',\n",
        "           'osm_offices_points_in_0.005',\n",
        "           'osm_shops_points_in_0.01'],\n",
        "          ['encoded_street', 'encoded_region', 'encoded_city'], ['mean'], final_df)"
      ],
      "execution_count": 49,
      "outputs": [
        {
          "output_type": "stream",
          "name": "stdout",
          "text": [
            "osm_catering_points_in_0.0075_encoded_street_mean, osm_catering_points_in_0.0075_encoded_region_mean, osm_catering_points_in_0.0075_encoded_city_mean, osm_hotels_points_in_0.005_encoded_street_mean, osm_hotels_points_in_0.005_encoded_region_mean, osm_hotels_points_in_0.005_encoded_city_mean, osm_offices_points_in_0.005_encoded_street_mean, osm_offices_points_in_0.005_encoded_region_mean, osm_offices_points_in_0.005_encoded_city_mean, osm_shops_points_in_0.01_encoded_street_mean, osm_shops_points_in_0.01_encoded_region_mean, osm_shops_points_in_0.01_encoded_city_mean, "
          ]
        }
      ]
    },
    {
      "cell_type": "code",
      "metadata": {
        "id": "bZky-9bwHMzo"
      },
      "source": [
        "# удаление целевой переменной и price_type\n",
        "final_df.drop('target', axis=1, inplace=True)\n",
        "final_df.drop('price_type', axis=1, inplace=True)"
      ],
      "execution_count": 50,
      "outputs": []
    },
    {
      "cell_type": "markdown",
      "metadata": {
        "id": "gncWZRfY0oe0"
      },
      "source": [
        "## Заполнение пропусков"
      ]
    },
    {
      "cell_type": "markdown",
      "metadata": {
        "id": "Sny_0GBYWd4G"
      },
      "source": [
        "Заполним пропуски в числовых признаках константой -1.1 и укажем это в гиперпараметрах xgboost, попытки заполнить пропуски медианой или средним, группируя по региону показали результаты хуже"
      ]
    },
    {
      "cell_type": "code",
      "metadata": {
        "id": "pPbtpM6FW4j8"
      },
      "source": [
        "def num_fill_na(df, grouping_col, nan_cols, agg):\n",
        "  \"\"\"\n",
        "  заполнение пропусков в числовых признаков, группировкой по категориальному признаку\n",
        "  :param df: pd.DataFrame, датафрейм с пропусками\n",
        "  :param grouping_col: string, признак, по которому группируется датафрейм\n",
        "  :param nan_cols: list, список из признаков с пропусками\n",
        "  :param agg: функция агрегации\n",
        "  :return: pd.DataFrame, датафрейм с заполненными пропусками\n",
        "  \"\"\"\n",
        "  for col in nan_cols:\n",
        "    df[col] = df[col].fillna(df.groupby(grouping_col)[col].transform(agg))\n",
        "\n",
        "  return df"
      ],
      "execution_count": 51,
      "outputs": []
    },
    {
      "cell_type": "code",
      "metadata": {
        "id": "jlseN9GShul5",
        "colab": {
          "base_uri": "https://localhost:8080/"
        },
        "outputId": "38f72e62-09d4-48d0-af19-1487c703f43f"
      },
      "source": [
        "final_df = final_df.fillna(-1.1)\n",
        "\n",
        "print(f'В итоговом датафрейме {final_df.isna().sum().sum()} пропусков.')"
      ],
      "execution_count": 59,
      "outputs": [
        {
          "output_type": "stream",
          "name": "stdout",
          "text": [
            "В итоговом датафрейме 0 пропусков.\n"
          ]
        }
      ]
    },
    {
      "cell_type": "markdown",
      "metadata": {
        "id": "gFLmvx9jkf80"
      },
      "source": [
        "## Кластеризация по долготе и широте"
      ]
    },
    {
      "cell_type": "markdown",
      "metadata": {
        "id": "xjuyY_x82OA2"
      },
      "source": [
        "В датасете признаки **lat** и **lng** отвечают за долготу и широту наблюдаемого объекта с небольшим шумом, сами по себе пользы для модели они не несут, но создание на их основе нового признака с разбиеним их на 8 кластеров(именно столько федеральных округов в России) улучшило результат. Для этого мы используем алгоритм **KMeans**"
      ]
    },
    {
      "cell_type": "code",
      "metadata": {
        "id": "tfO9Ggy-klBN"
      },
      "source": [
        "from sklearn.cluster import KMeans"
      ],
      "execution_count": 60,
      "outputs": []
    },
    {
      "cell_type": "code",
      "metadata": {
        "id": "ZCXZycJ9kmZn"
      },
      "source": [
        "# инициализация алгоритма\n",
        "k = KMeans(n_clusters=8, random_state=23)\n",
        "\n",
        "# обучение\n",
        "k.fit(final_df[['lat', 'lng']])\n",
        "\n",
        "# прогноз\n",
        "clusters = k.predict(final_df[['lat', 'lng']])"
      ],
      "execution_count": 61,
      "outputs": []
    },
    {
      "cell_type": "code",
      "metadata": {
        "id": "KJdcWb1tlK-h"
      },
      "source": [
        "# новый признак с кластерами\n",
        "final_df['lat_lng_clusters'] = clusters\n",
        "\n",
        "# удаление lat и lng\n",
        "final_df.drop(['lat', 'lng'], axis=1, inplace=True)"
      ],
      "execution_count": 62,
      "outputs": []
    },
    {
      "cell_type": "markdown",
      "metadata": {
        "id": "52s58OY-ruO5"
      },
      "source": [
        "## Метрика "
      ]
    },
    {
      "cell_type": "markdown",
      "metadata": {
        "id": "pySyA6ZU7Iqa"
      },
      "source": [
        "Кастомная метрика хакатона"
      ]
    },
    {
      "cell_type": "code",
      "metadata": {
        "id": "pewaN0MWrxpz"
      },
      "source": [
        "import typing\n",
        "import numpy as np\n",
        "from sklearn.metrics import r2_score, mean_squared_error, mean_absolute_percentage_error\n",
        "\n",
        "THRESHOLD = 0.15\n",
        "NEGATIVE_WEIGHT = 1.1\n",
        "\n",
        "def deviation_metric_one_sample(y_true: typing.Union[float, int], y_pred: typing.Union[float, int]) -> float:\n",
        "    \"\"\"\n",
        "    Реализация кастомной метрики для хакатона.\n",
        "\n",
        "    :param y_true: float, реальная цена\n",
        "    :param y_pred: float, предсказанная цена\n",
        "    :return: float, значение метрики\n",
        "    \"\"\"\n",
        "    deviation = (y_pred - y_true) / np.maximum(1e-8, y_true)\n",
        "    if np.abs(deviation) <= THRESHOLD:\n",
        "        return 0\n",
        "    elif deviation <= - 4 * THRESHOLD:\n",
        "        return 9 * NEGATIVE_WEIGHT\n",
        "    elif deviation < -THRESHOLD:\n",
        "        return NEGATIVE_WEIGHT * ((deviation / THRESHOLD) + 1) ** 2\n",
        "    elif deviation < 4 * THRESHOLD:\n",
        "        return ((deviation / THRESHOLD) - 1) ** 2\n",
        "    else:\n",
        "        return 9\n",
        "\n",
        "def deviation_metric(y_true: np.array, y_pred: np.array) -> float:\n",
        "    return np.array([deviation_metric_one_sample(y_true[n], y_pred[n]) for n in range(len(y_true))]).mean()\n",
        "\n",
        "def median_absolute_percentage_error(y_true: np.array, y_pred: np.array) -> float:\n",
        "    return np.median(np.abs(y_pred-y_true)/y_true)\n",
        "\n",
        "def metrics_stat(y_true: np.array, y_pred: np.array) -> typing.Dict[str,float]:\n",
        "    mape = mean_absolute_percentage_error(y_true, y_pred)\n",
        "    mdape = median_absolute_percentage_error(y_true, y_pred)\n",
        "    rmse = mean_squared_error(y_true, y_pred, squared=False)\n",
        "    r2 = r2_score(y_true, y_pred)\n",
        "    raif_metric = deviation_metric(y_true, y_pred)\n",
        "    return {'mape':mape, 'mdape':mdape, 'rmse': rmse, 'r2': r2, 'raif_metric':raif_metric}"
      ],
      "execution_count": 63,
      "outputs": []
    },
    {
      "cell_type": "code",
      "metadata": {
        "id": "MsiTVbQPg90_"
      },
      "source": [
        "# разобьем выборку на трейн и на тест\n",
        "X_train = final_df.iloc[:4493, :]\n",
        "X_test = final_df.iloc[4493:, :]\n",
        "\n",
        "# целевая переменная\n",
        "y = df_train['per_square_meter_price']"
      ],
      "execution_count": 64,
      "outputs": []
    },
    {
      "cell_type": "markdown",
      "metadata": {
        "id": "FA02gmIXPTaU"
      },
      "source": [
        "## Обучение и прогноз"
      ]
    },
    {
      "cell_type": "markdown",
      "metadata": {
        "id": "eIlWkJfkPLWM"
      },
      "source": [
        "Мы обучим 8 моделей **XGBRegressor**, а затем усредним их прогноз. Прогнозировать тестовую выборку будем с **GroupKFold**, с месяцами в виде фолдов. На каждом шаге итерации будем обучаться на всех месяцах, кроме одного, который будет валидационным.Также на каждом шаге будем прогнозировать всю тестовую выборку, а результаты затем усредним."
      ]
    },
    {
      "cell_type": "code",
      "metadata": {
        "id": "duO4Wj4Ib4_a"
      },
      "source": [
        "from sklearn.model_selection import GroupKFold"
      ],
      "execution_count": 68,
      "outputs": []
    },
    {
      "cell_type": "code",
      "metadata": {
        "id": "YGjqZqSCb6B-"
      },
      "source": [
        "groups = X_train['month'].unique()\n",
        "group_kfold = GroupKFold(n_splits=8)"
      ],
      "execution_count": 69,
      "outputs": []
    },
    {
      "cell_type": "code",
      "metadata": {
        "colab": {
          "base_uri": "https://localhost:8080/"
        },
        "id": "Kao1y_zS8pW_",
        "outputId": "6275a382-881c-419d-89f1-07e876424938"
      },
      "source": [
        "groups"
      ],
      "execution_count": 70,
      "outputs": [
        {
          "output_type": "execute_result",
          "data": {
            "text/plain": [
              "array([1, 2, 3, 4, 5, 6, 7, 8])"
            ]
          },
          "metadata": {},
          "execution_count": 70
        }
      ]
    },
    {
      "cell_type": "code",
      "metadata": {
        "colab": {
          "base_uri": "https://localhost:8080/"
        },
        "id": "T2B4_L3ccGa8",
        "outputId": "59967ad3-5569-4bdd-9c67-9ae5d2854460"
      },
      "source": [
        "group_kfold.get_n_splits(X_train, y, groups)"
      ],
      "execution_count": 71,
      "outputs": [
        {
          "output_type": "execute_result",
          "data": {
            "text/plain": [
              "8"
            ]
          },
          "metadata": {},
          "execution_count": 71
        }
      ]
    },
    {
      "cell_type": "code",
      "metadata": {
        "colab": {
          "base_uri": "https://localhost:8080/"
        },
        "id": "ELQ1g7QPcaxP",
        "outputId": "b3e43728-fccc-4026-c417-5a9fb91c4698"
      },
      "source": [
        "# датафрейм, в котором будем хранить прогнозы с каждой итерации\n",
        "pred_test = pd.DataFrame()\n",
        "p = 1\n",
        "\n",
        "for train_index, val_index in group_kfold.split(X_train, y, X_train['month']):\n",
        "  print(f'Валидационный месяц: {df_train.iloc[val_index].month.iloc[0]}')\n",
        "  print(f'Train: {len(train_index)} наблюдений, Val: {len(val_index)} наблюдений')\n",
        "  # разбиваем выборку на трейн и валидацию, логарифмируя целевую переменную\n",
        "  X_trainn, X_val = X_train.iloc[train_index], X_train.iloc[val_index]\n",
        "  y_train, y_val = np.log1p(y.iloc[train_index]), np.log1p(y.iloc[val_index])\n",
        "  # инициализация модели\n",
        "  xx = XGBRegressor(n_estimators=1000, max_depth=10, missing=-1.1, random_state=23, verbosity=0)\n",
        "  # обучение\n",
        "  xx.fit(X_trainn, y_train)\n",
        "  # прогноз валидационной выборки\n",
        "  pred_val = xx.predict(X_val)\n",
        "  # метрики\n",
        "  metrics = metrics_stat(np.expm1(y_val), np.expm1(pred_val))\n",
        "  print(metrics, '\\n')\n",
        "\n",
        "  # прогноз тестовой выборки\n",
        "  pred = xx.predict(X_test)\n",
        "  # фиксируем проноз в датафрейм\n",
        "  pred_test[f'pred_{p}'] = pred\n",
        "  p+=1"
      ],
      "execution_count": 74,
      "outputs": [
        {
          "output_type": "stream",
          "name": "stdout",
          "text": [
            "Валидационный месяц: 2\n",
            "Train: 3843 наблюдений, Val: 650 наблюдений\n",
            "{'mape': 0.20744541394793617, 'mdape': 0.15084828804242797, 'rmse': 41928.50222404582, 'r2': 0.754880244310396, 'raif_metric': 1.0275274023146568} \n",
            "\n",
            "Валидационный месяц: 3\n",
            "Train: 3866 наблюдений, Val: 627 наблюдений\n",
            "{'mape': 0.20261053582512809, 'mdape': 0.1380272996615116, 'rmse': 38146.197197973845, 'r2': 0.786180354733735, 'raif_metric': 0.8970943978856303} \n",
            "\n",
            "Валидационный месяц: 1\n",
            "Train: 3914 наблюдений, Val: 579 наблюдений\n",
            "{'mape': 0.21744665845936123, 'mdape': 0.15989743712782611, 'rmse': 61442.12212598472, 'r2': 0.5137467020249653, 'raif_metric': 1.1999730505128907} \n",
            "\n",
            "Валидационный месяц: 5\n",
            "Train: 3921 наблюдений, Val: 572 наблюдений\n",
            "{'mape': 0.22860989589715452, 'mdape': 0.14252671925145383, 'rmse': 28295.55863326429, 'r2': 0.8202403054431953, 'raif_metric': 1.2662734425079516} \n",
            "\n",
            "Валидационный месяц: 6\n",
            "Train: 3932 наблюдений, Val: 561 наблюдений\n",
            "{'mape': 0.2038312322464242, 'mdape': 0.1534848359089517, 'rmse': 85445.31635645253, 'r2': 0.11140050879511232, 'raif_metric': 0.9802752349784499} \n",
            "\n",
            "Валидационный месяц: 8\n",
            "Train: 3971 наблюдений, Val: 522 наблюдений\n",
            "{'mape': 0.3426630658903348, 'mdape': 0.1574050394393184, 'rmse': 38083.77195127809, 'r2': 0.6535816310683943, 'raif_metric': 1.1206080933076634} \n",
            "\n",
            "Валидационный месяц: 7\n",
            "Train: 3989 наблюдений, Val: 504 наблюдений\n",
            "{'mape': 0.2365338388714188, 'mdape': 0.14781390003990527, 'rmse': 99636.77340859249, 'r2': 0.3055625420903223, 'raif_metric': 1.267205588633743} \n",
            "\n",
            "Валидационный месяц: 4\n",
            "Train: 4015 наблюдений, Val: 478 наблюдений\n",
            "{'mape': 0.20120244894379, 'mdape': 0.14506499275131696, 'rmse': 99269.31639594278, 'r2': 0.20137136816618284, 'raif_metric': 0.931143765094298} \n",
            "\n"
          ]
        }
      ]
    },
    {
      "cell_type": "code",
      "metadata": {
        "colab": {
          "base_uri": "https://localhost:8080/",
          "height": 419
        },
        "id": "wZ8leNkYB4DR",
        "outputId": "9d8f2950-0ba0-4a86-a993-58764fb9a52e"
      },
      "source": [
        "# прогнозы моделей\n",
        "np.expm1(pred_test)"
      ],
      "execution_count": 97,
      "outputs": [
        {
          "output_type": "execute_result",
          "data": {
            "text/html": [
              "<div>\n",
              "<style scoped>\n",
              "    .dataframe tbody tr th:only-of-type {\n",
              "        vertical-align: middle;\n",
              "    }\n",
              "\n",
              "    .dataframe tbody tr th {\n",
              "        vertical-align: top;\n",
              "    }\n",
              "\n",
              "    .dataframe thead th {\n",
              "        text-align: right;\n",
              "    }\n",
              "</style>\n",
              "<table border=\"1\" class=\"dataframe\">\n",
              "  <thead>\n",
              "    <tr style=\"text-align: right;\">\n",
              "      <th></th>\n",
              "      <th>pred_1</th>\n",
              "      <th>pred_2</th>\n",
              "      <th>pred_3</th>\n",
              "      <th>pred_4</th>\n",
              "      <th>pred_5</th>\n",
              "      <th>pred_6</th>\n",
              "      <th>pred_7</th>\n",
              "      <th>pred_8</th>\n",
              "    </tr>\n",
              "  </thead>\n",
              "  <tbody>\n",
              "    <tr>\n",
              "      <th>0</th>\n",
              "      <td>50060.703125</td>\n",
              "      <td>50073.117188</td>\n",
              "      <td>49941.820312</td>\n",
              "      <td>54619.160156</td>\n",
              "      <td>53036.960938</td>\n",
              "      <td>34587.906250</td>\n",
              "      <td>52801.777344</td>\n",
              "      <td>50124.718750</td>\n",
              "    </tr>\n",
              "    <tr>\n",
              "      <th>1</th>\n",
              "      <td>44840.007812</td>\n",
              "      <td>44006.562500</td>\n",
              "      <td>40849.285156</td>\n",
              "      <td>43652.976562</td>\n",
              "      <td>43328.832031</td>\n",
              "      <td>43252.203125</td>\n",
              "      <td>43347.554688</td>\n",
              "      <td>43119.175781</td>\n",
              "    </tr>\n",
              "    <tr>\n",
              "      <th>2</th>\n",
              "      <td>47607.664062</td>\n",
              "      <td>44030.406250</td>\n",
              "      <td>44300.269531</td>\n",
              "      <td>58247.527344</td>\n",
              "      <td>56313.929688</td>\n",
              "      <td>34783.273438</td>\n",
              "      <td>51339.894531</td>\n",
              "      <td>45215.886719</td>\n",
              "    </tr>\n",
              "    <tr>\n",
              "      <th>3</th>\n",
              "      <td>110202.250000</td>\n",
              "      <td>106206.875000</td>\n",
              "      <td>115943.484375</td>\n",
              "      <td>103823.273438</td>\n",
              "      <td>107315.125000</td>\n",
              "      <td>112144.992188</td>\n",
              "      <td>103250.671875</td>\n",
              "      <td>115819.812500</td>\n",
              "    </tr>\n",
              "    <tr>\n",
              "      <th>4</th>\n",
              "      <td>51514.449219</td>\n",
              "      <td>50928.070312</td>\n",
              "      <td>50370.597656</td>\n",
              "      <td>50533.566406</td>\n",
              "      <td>51137.101562</td>\n",
              "      <td>51751.546875</td>\n",
              "      <td>50877.437500</td>\n",
              "      <td>50072.828125</td>\n",
              "    </tr>\n",
              "    <tr>\n",
              "      <th>...</th>\n",
              "      <td>...</td>\n",
              "      <td>...</td>\n",
              "      <td>...</td>\n",
              "      <td>...</td>\n",
              "      <td>...</td>\n",
              "      <td>...</td>\n",
              "      <td>...</td>\n",
              "      <td>...</td>\n",
              "    </tr>\n",
              "    <tr>\n",
              "      <th>2969</th>\n",
              "      <td>28118.158203</td>\n",
              "      <td>26670.222656</td>\n",
              "      <td>23325.101562</td>\n",
              "      <td>25742.445312</td>\n",
              "      <td>28023.496094</td>\n",
              "      <td>29910.144531</td>\n",
              "      <td>26214.511719</td>\n",
              "      <td>24197.539062</td>\n",
              "    </tr>\n",
              "    <tr>\n",
              "      <th>2970</th>\n",
              "      <td>52922.265625</td>\n",
              "      <td>54575.367188</td>\n",
              "      <td>54180.355469</td>\n",
              "      <td>54091.964844</td>\n",
              "      <td>54339.890625</td>\n",
              "      <td>49512.109375</td>\n",
              "      <td>54338.132812</td>\n",
              "      <td>54385.203125</td>\n",
              "    </tr>\n",
              "    <tr>\n",
              "      <th>2971</th>\n",
              "      <td>50680.964844</td>\n",
              "      <td>43334.164062</td>\n",
              "      <td>40887.523438</td>\n",
              "      <td>55278.500000</td>\n",
              "      <td>58178.187500</td>\n",
              "      <td>53807.695312</td>\n",
              "      <td>48929.664062</td>\n",
              "      <td>55911.023438</td>\n",
              "    </tr>\n",
              "    <tr>\n",
              "      <th>2972</th>\n",
              "      <td>40741.554688</td>\n",
              "      <td>40388.039062</td>\n",
              "      <td>41166.027344</td>\n",
              "      <td>43724.929688</td>\n",
              "      <td>37386.718750</td>\n",
              "      <td>43266.687500</td>\n",
              "      <td>41005.765625</td>\n",
              "      <td>42895.882812</td>\n",
              "    </tr>\n",
              "    <tr>\n",
              "      <th>2973</th>\n",
              "      <td>47406.273438</td>\n",
              "      <td>46941.539062</td>\n",
              "      <td>50011.453125</td>\n",
              "      <td>49296.976562</td>\n",
              "      <td>44668.812500</td>\n",
              "      <td>47335.437500</td>\n",
              "      <td>50012.171875</td>\n",
              "      <td>46706.203125</td>\n",
              "    </tr>\n",
              "  </tbody>\n",
              "</table>\n",
              "<p>2974 rows × 8 columns</p>\n",
              "</div>"
            ],
            "text/plain": [
              "             pred_1         pred_2  ...         pred_7         pred_8\n",
              "0      50060.703125   50073.117188  ...   52801.777344   50124.718750\n",
              "1      44840.007812   44006.562500  ...   43347.554688   43119.175781\n",
              "2      47607.664062   44030.406250  ...   51339.894531   45215.886719\n",
              "3     110202.250000  106206.875000  ...  103250.671875  115819.812500\n",
              "4      51514.449219   50928.070312  ...   50877.437500   50072.828125\n",
              "...             ...            ...  ...            ...            ...\n",
              "2969   28118.158203   26670.222656  ...   26214.511719   24197.539062\n",
              "2970   52922.265625   54575.367188  ...   54338.132812   54385.203125\n",
              "2971   50680.964844   43334.164062  ...   48929.664062   55911.023438\n",
              "2972   40741.554688   40388.039062  ...   41005.765625   42895.882812\n",
              "2973   47406.273438   46941.539062  ...   50012.171875   46706.203125\n",
              "\n",
              "[2974 rows x 8 columns]"
            ]
          },
          "metadata": {},
          "execution_count": 97
        }
      ]
    },
    {
      "cell_type": "code",
      "metadata": {
        "id": "JMhvc-xrqI9K"
      },
      "source": [
        "# датафрейм с усредненным прогнозом\n",
        "sub_df = pd.DataFrame({'id': X_test.index,\n",
        "                       'per_square_meter_price': np.expm1(pred_test.mean(axis=1))})"
      ],
      "execution_count": 98,
      "outputs": []
    },
    {
      "cell_type": "markdown",
      "metadata": {
        "id": "y0FNYWXzHqem"
      },
      "source": [
        "На завершение усредним наш прогноз с прогнозом полученным на основе реализации бейзлайна организаторов:"
      ]
    },
    {
      "cell_type": "code",
      "metadata": {
        "id": "eVCyn2YqsGTU"
      },
      "source": [
        "pred_ant = pd.read_csv('/content/targets_03.csv')"
      ],
      "execution_count": 99,
      "outputs": []
    },
    {
      "cell_type": "code",
      "metadata": {
        "id": "6yK2O3n3sIAK"
      },
      "source": [
        "sub_df['per_square_meter_price'] = (sub_df['per_square_meter_price'] + pred_ant['per_square_meter_price']) / 2"
      ],
      "execution_count": 100,
      "outputs": []
    },
    {
      "cell_type": "code",
      "metadata": {
        "id": "yOEB0qvZqibK"
      },
      "source": [
        "# сохраним прогноз\n",
        "sub_df.to_csv('raif_final_sub.csv')"
      ],
      "execution_count": 102,
      "outputs": []
    },
    {
      "cell_type": "code",
      "metadata": {
        "id": "n2qsmqHDNylp"
      },
      "source": [
        "pip freeze > requirements.txt"
      ],
      "execution_count": 104,
      "outputs": []
    }
  ]
}